{
 "cells": [
  {
   "cell_type": "markdown",
   "id": "b0edf5cf-7c9b-40d3-90f6-fec0d58c9ac1",
   "metadata": {},
   "source": [
    "#### Python strings cannot be changed — they are immutable."
   ]
  },
  {
   "cell_type": "markdown",
   "id": "9d4d22ea-7fbf-4c4f-9c4c-510e22e5e289",
   "metadata": {},
   "source": [
    "##### Therefore, assigning to an indexed position in the string results in an error:\n",
    "##### This will give error \n",
    "###### >> word[0] = 'J'\n"
   ]
  },
  {
   "cell_type": "code",
   "execution_count": null,
   "id": "da6c1f7c-dd57-48ec-ac7e-83fbcd398b20",
   "metadata": {},
   "outputs": [],
   "source": []
  }
 ],
 "metadata": {
  "kernelspec": {
   "display_name": "Python 3 (ipykernel)",
   "language": "python",
   "name": "python3"
  },
  "language_info": {
   "codemirror_mode": {
    "name": "ipython",
    "version": 3
   },
   "file_extension": ".py",
   "mimetype": "text/x-python",
   "name": "python",
   "nbconvert_exporter": "python",
   "pygments_lexer": "ipython3",
   "version": "3.12.4"
  }
 },
 "nbformat": 4,
 "nbformat_minor": 5
}
