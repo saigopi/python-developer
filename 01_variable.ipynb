{
 "cells": [
  {
   "cell_type": "markdown",
   "id": "f410e4b7-fa13-4490-a7bf-6f772177669b",
   "metadata": {},
   "source": [
    "### Variable Rules to Define a variable Names\n",
    "#### To not take pre defined word for python\n",
    "#### Start with Letters, \n",
    "#### Start with Numbers, \n",
    "#### Start with Underscope,\n",
    "#### Do not contian spaces,\n",
    "#### Do not start with Number,\n",
    "#### Do not Case-Sensitive. ( x=1, and X=2 both are different variable.)\n",
    "#### Do delete if not requried to reduce some RAM memory"
   ]
  },
  {
   "cell_type": "code",
   "execution_count": null,
   "id": "c4444241-4cd5-4819-8015-58385d154e33",
   "metadata": {},
   "outputs": [],
   "source": []
  },
  {
   "cell_type": "code",
   "execution_count": 4,
   "id": "a2611793-f385-4dcd-a4cc-054ce15be8b7",
   "metadata": {
    "panel-layout": {
     "height": 27.140625,
     "visible": true,
     "width": 100
    }
   },
   "outputs": [
    {
     "data": {
      "text/plain": [
       "1"
      ]
     },
     "execution_count": 4,
     "metadata": {},
     "output_type": "execute_result"
    }
   ],
   "source": [
    "_Test"
   ]
  },
  {
   "cell_type": "code",
   "execution_count": 14,
   "id": "4c2e16fa-28ff-453f-8178-f3dfcbd4df20",
   "metadata": {},
   "outputs": [
    {
     "data": {
      "text/plain": [
       "4"
      ]
     },
     "execution_count": 14,
     "metadata": {},
     "output_type": "execute_result"
    }
   ],
   "source": [
    "#Declare the variable\n",
    "x=4\n",
    "y=4.2\n",
    "z=\"4\"\n",
    "x,y,z"
   ]
  },
  {
   "cell_type": "code",
   "execution_count": 20,
   "id": "a3fee9ef-2995-48b7-abd7-54cee4ba32f2",
   "metadata": {},
   "outputs": [
    {
     "name": "stdout",
     "output_type": "stream",
     "text": [
      "4\n",
      "<class 'int'>\n",
      "4.2\n",
      "<class 'float'>\n",
      "4\n",
      "<class 'str'>\n"
     ]
    }
   ],
   "source": [
    "print(x)\n",
    "print(type(x))\n",
    "print(y)\n",
    "print(type(y))\n",
    "print(z)\n",
    "print(type(z))"
   ]
  },
  {
   "cell_type": "code",
   "execution_count": 28,
   "id": "a7de911f-f8cd-4828-bad9-388d26333cd1",
   "metadata": {},
   "outputs": [
    {
     "data": {
      "text/plain": [
       "(10, 10.5, 'Zee TV')"
      ]
     },
     "execution_count": 28,
     "metadata": {},
     "output_type": "execute_result"
    }
   ],
   "source": [
    "#Redeclar the variable\n",
    "x=10\n",
    "y=10.5\n",
    "z=\"Zee TV\"\n",
    "x, y, z"
   ]
  },
  {
   "cell_type": "code",
   "execution_count": 32,
   "id": "f8b8ea0e-029f-436f-a0ff-908d86275fe0",
   "metadata": {},
   "outputs": [
    {
     "name": "stdout",
     "output_type": "stream",
     "text": [
      "10\n",
      "<class 'int'>\n",
      "10.5\n",
      "<class 'float'>\n",
      "Zee TV\n",
      "<class 'str'>\n"
     ]
    }
   ],
   "source": [
    "# Print the variable which we redeclared\n",
    "print(x)\n",
    "print(type(x))\n",
    "print(y)\n",
    "print(type(y))\n",
    "print(z)\n",
    "print(type(z))"
   ]
  },
  {
   "cell_type": "code",
   "execution_count": 40,
   "id": "a4e719c9-cb43-4fb8-990c-8fe280f9bcc4",
   "metadata": {},
   "outputs": [
    {
     "ename": "NameError",
     "evalue": "name 'x' is not defined",
     "output_type": "error",
     "traceback": [
      "\u001b[1;31m---------------------------------------------------------------------------\u001b[0m",
      "\u001b[1;31mNameError\u001b[0m                                 Traceback (most recent call last)",
      "Cell \u001b[1;32mIn[40], line 2\u001b[0m\n\u001b[0;32m      1\u001b[0m \u001b[38;5;66;03m# Pratice the Dell \u001b[39;00m\n\u001b[1;32m----> 2\u001b[0m \u001b[38;5;28;01mdel\u001b[39;00m x\n\u001b[0;32m      3\u001b[0m x\n",
      "\u001b[1;31mNameError\u001b[0m: name 'x' is not defined"
     ]
    }
   ],
   "source": [
    "# Pratice the Dell \n",
    "del x\n",
    "x # This will through error"
   ]
  },
  {
   "cell_type": "code",
   "execution_count": 15,
   "id": "e207f5f9-e9c4-4222-b92c-ae487ded5f4e",
   "metadata": {},
   "outputs": [
    {
     "data": {
      "text/plain": [
       "(44, 'string', 'one')"
      ]
     },
     "execution_count": 15,
     "metadata": {},
     "output_type": "execute_result"
    }
   ],
   "source": [
    "x=44\n",
    "y=\"string\"\n",
    "z=\"one\"\n",
    "x,y,z"
   ]
  },
  {
   "cell_type": "code",
   "execution_count": 17,
   "id": "7a618a71-7e06-4a07-b49c-6d8c1109a8ce",
   "metadata": {},
   "outputs": [
    {
     "name": "stdout",
     "output_type": "stream",
     "text": [
      "44 string one\n"
     ]
    }
   ],
   "source": [
    "print(x,y,z)"
   ]
  },
  {
   "cell_type": "code",
   "execution_count": 25,
   "id": "22b9067b-1950-4152-ac2d-7a0ba14526ee",
   "metadata": {},
   "outputs": [
    {
     "name": "stdout",
     "output_type": "stream",
     "text": [
      "44 string one\n"
     ]
    }
   ],
   "source": [
    "order print with format\n",
    "print(\"{} {} {}\".format(x,y,z))"
   ]
  },
  {
   "cell_type": "code",
   "execution_count": 29,
   "id": "4ae35e3d-34e1-4bea-ae85-2124b11a3a71",
   "metadata": {},
   "outputs": [
    {
     "name": "stdout",
     "output_type": "stream",
     "text": [
      "44 one string\n"
     ]
    }
   ],
   "source": [
    "#print with format, out of order\n",
    "print(\"{} {} {}\".format(x,z,y))"
   ]
  },
  {
   "cell_type": "code",
   "execution_count": 31,
   "id": "b7e9709b-a1f0-4489-a0e5-f5e4bc5c25b1",
   "metadata": {},
   "outputs": [
    {
     "name": "stdout",
     "output_type": "stream",
     "text": [
      "44\n",
      "string\n",
      "one\n"
     ]
    }
   ],
   "source": [
    "#from python version 3.0 new format usage.\n",
    "print(f\"{x}\")\n",
    "print(f\"{y}\")\n",
    "print(f\"{z}\")"
   ]
  },
  {
   "cell_type": "code",
   "execution_count": 37,
   "id": "f4da9876-bcb3-4357-a94c-4a66a0610c89",
   "metadata": {},
   "outputs": [
    {
     "name": "stdout",
     "output_type": "stream",
     "text": [
      "string\n",
      "the value of x is 44, and the value of y is string finaly the valune of z is one\n"
     ]
    }
   ],
   "source": [
    "print(f\"{y}\")\n",
    "values=f\"the value of x is {x}, and the value of y is {y} finaly the valune of z is {z}\"\n",
    "print(values)"
   ]
  },
  {
   "cell_type": "code",
   "execution_count": 77,
   "id": "77d5ef88-e92c-4090-a507-7129e7e6cc30",
   "metadata": {},
   "outputs": [
    {
     "name": "stdout",
     "output_type": "stream",
     "text": [
      "80000\n"
     ]
    }
   ],
   "source": [
    "x=45000\n",
    "#del(result) this will give error if not present\n",
    "y=35000\n",
    "value1=f\"The value of x is {x} and the type is {type(x)}\"\n",
    "value2=f\"The value of x is {y} and the type is {type(x)}\"\n",
    "result1=f\"The value of x is {value1} and the type is {type(value1)}\"\n",
    "result2=f\"The value of x is {value2} and the type is {type(value2)}\"\n",
    "finalresult=x+y\n",
    "print(finalresult)"
   ]
  },
  {
   "cell_type": "code",
   "execution_count": 97,
   "id": "8c31c78e-03f8-4737-86a6-c29a89c7b031",
   "metadata": {},
   "outputs": [
    {
     "name": "stdin",
     "output_type": "stream",
     "text": [
      "Enter X Value 34\n",
      "Enter Y Value 44\n"
     ]
    },
    {
     "name": "stdout",
     "output_type": "stream",
     "text": [
      "78\n"
     ]
    }
   ],
   "source": [
    "#Get it from user input\n",
    "#input is always to read the string.\n",
    "x=eval(input(\"Enter X Value\"))\n",
    "y=eval(input(\"Enter Y Value\"))\n",
    "#del(result) this will give error if not present\n",
    "#y=35000\n",
    "value1=f\"The value of x is {x} and the type is {type(x)}\"\n",
    "value2=f\"The value of x is {y} and the type is {type(x)}\"\n",
    "result1=f\"The value of x is {value1} and the type is {type(value1)}\"\n",
    "result2=f\"The value of x is {value2} and the type is {type(value2)}\"\n",
    "finalresult=(x+y)\n",
    "print(finalresult)"
   ]
  },
  {
   "cell_type": "code",
   "execution_count": null,
   "id": "84d379ab-5ff0-4ef7-b5c1-a5f25e2bfe0e",
   "metadata": {},
   "outputs": [],
   "source": []
  }
 ],
 "metadata": {
  "kernelspec": {
   "display_name": "Python 3 (ipykernel)",
   "language": "python",
   "name": "python3"
  },
  "language_info": {
   "codemirror_mode": {
    "name": "ipython",
    "version": 3
   },
   "file_extension": ".py",
   "mimetype": "text/x-python",
   "name": "python",
   "nbconvert_exporter": "python",
   "pygments_lexer": "ipython3",
   "version": "3.12.4"
  },
  "panel-cell-order": [
   "a2611793-f385-4dcd-a4cc-054ce15be8b7"
  ]
 },
 "nbformat": 4,
 "nbformat_minor": 5
}
