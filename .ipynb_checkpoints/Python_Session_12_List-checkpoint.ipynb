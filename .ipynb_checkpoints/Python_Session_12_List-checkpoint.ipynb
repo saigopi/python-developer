{
 "cells": [
  {
   "cell_type": "markdown",
   "id": "5fd667df-bcdd-4d62-88b9-fefab4cb805c",
   "metadata": {},
   "source": [
    "- Basic representations\n",
    "\n",
    "- type\n",
    "\n",
    "- len\n",
    "\n",
    "- min\n",
    "\n",
    "- max\n",
    "\n",
    "- sum\n",
    "\n",
    "- sorted\n",
    "\n",
    "- reversed\n",
    "\n",
    "- in\n",
    "\n",
    "- range\n",
    "\n",
    "- concatenation\n",
    "\n",
    "- index\n",
    "\n",
    "- slice\n",
    "\n",
    "- mutable vs immutable"
   ]
  },
  {
   "cell_type": "code",
   "execution_count": 1,
   "id": "121f8318-a901-4024-8997-c075072a3e7b",
   "metadata": {},
   "outputs": [
    {
     "data": {
      "text/plain": [
       "[1, 2, 3, 4]"
      ]
     },
     "execution_count": 1,
     "metadata": {},
     "output_type": "execute_result"
    }
   ],
   "source": [
    "list1=[1,2,3,4]\n",
    "list1"
   ]
  },
  {
   "cell_type": "code",
   "execution_count": 2,
   "id": "2aef8fd6-5edc-46d0-8c96-dd82756bc87f",
   "metadata": {},
   "outputs": [
    {
     "data": {
      "text/plain": [
       "[1, 2, 3, 4, 40, 40, 40]"
      ]
     },
     "execution_count": 2,
     "metadata": {},
     "output_type": "execute_result"
    }
   ],
   "source": [
    "list2=[1,2,3,4,40,40,40]\n",
    "list2"
   ]
  },
  {
   "cell_type": "code",
   "execution_count": 3,
   "id": "c5cf06f7-076b-4d2d-92ba-4347996efa7a",
   "metadata": {},
   "outputs": [
    {
     "data": {
      "text/plain": [
       "['Apple', 'Banana', 'Cherry']"
      ]
     },
     "execution_count": 3,
     "metadata": {},
     "output_type": "execute_result"
    }
   ],
   "source": [
    "list3=['Apple','Banana','Cherry']\n",
    "list3"
   ]
  },
  {
   "cell_type": "code",
   "execution_count": 4,
   "id": "b1768c94-9631-4bbd-a1fb-7c7519861216",
   "metadata": {},
   "outputs": [
    {
     "data": {
      "text/plain": [
       "['Apple', 'Banana', 'Cherry', 10, 20, 30]"
      ]
     },
     "execution_count": 4,
     "metadata": {},
     "output_type": "execute_result"
    }
   ],
   "source": [
    "list4=['Apple','Banana','Cherry',10,20,30]\n",
    "list4"
   ]
  },
  {
   "cell_type": "code",
   "execution_count": 5,
   "id": "34be35c8-b4ee-4f88-8c7d-84849c7b1d65",
   "metadata": {},
   "outputs": [
    {
     "data": {
      "text/plain": [
       "['A', 1, True, 10.5]"
      ]
     },
     "execution_count": 5,
     "metadata": {},
     "output_type": "execute_result"
    }
   ],
   "source": [
    "list5=['A',1,True,10.5]\n",
    "list5"
   ]
  },
  {
   "cell_type": "code",
   "execution_count": 6,
   "id": "8ccf13e7-79ee-444c-a21b-754de0e9f99a",
   "metadata": {},
   "outputs": [
    {
     "data": {
      "text/plain": [
       "[1, 2, 3, ['A', 'B', 'C']]"
      ]
     },
     "execution_count": 6,
     "metadata": {},
     "output_type": "execute_result"
    }
   ],
   "source": [
    "list6=[1,2,3,['A','B','C']]\n",
    "list6"
   ]
  },
  {
   "cell_type": "code",
   "execution_count": 7,
   "id": "7274e3e4-c848-4edf-8123-9e885679ff16",
   "metadata": {},
   "outputs": [],
   "source": [
    "list1=[1,2,3,4]\n",
    "list2=[1,2,3,4,40,40,40]\n",
    "list3=['Apple','Banana','Cherry']\n",
    "list4=['Apple','Banana','Cherry',10,20,30]\n",
    "list5=['A',1,True,10.5]\n",
    "list6=[1,2,3,['A','B','C']]"
   ]
  },
  {
   "cell_type": "code",
   "execution_count": null,
   "id": "15379884-2700-4a59-b0c9-d34e2fdf92c5",
   "metadata": {},
   "outputs": [],
   "source": [
    "type()\n",
    "len()\n",
    "min()\n",
    "max()\n",
    "sorted()\n",
    "reversed()"
   ]
  },
  {
   "cell_type": "code",
   "execution_count": 8,
   "id": "fb1c0ed3-ac9e-4a52-ab14-a4a06e88ab47",
   "metadata": {},
   "outputs": [
    {
     "ename": "TypeError",
     "evalue": "'<' not supported between instances of 'int' and 'str'",
     "output_type": "error",
     "traceback": [
      "\u001b[1;31m---------------------------------------------------------------------------\u001b[0m",
      "\u001b[1;31mTypeError\u001b[0m                                 Traceback (most recent call last)",
      "Cell \u001b[1;32mIn[8], line 1\u001b[0m\n\u001b[1;32m----> 1\u001b[0m \u001b[38;5;28mmin\u001b[39m(list4)\n",
      "\u001b[1;31mTypeError\u001b[0m: '<' not supported between instances of 'int' and 'str'"
     ]
    }
   ],
   "source": [
    "min(list4)"
   ]
  },
  {
   "cell_type": "code",
   "execution_count": null,
   "id": "7cd0c4c3-bbc6-4bac-98fc-9990dabc75ac",
   "metadata": {},
   "outputs": [],
   "source": [
    "'Apple'>10 # Not the way to comapre\n",
    "'a'>'10'"
   ]
  },
  {
   "cell_type": "code",
   "execution_count": null,
   "id": "95938e90-4e44-4278-b497-2bb699b2e880",
   "metadata": {},
   "outputs": [],
   "source": [
    "##### Min #################\n",
    "list1=[1,2,3,4]  #  1\n",
    "list2=[1,2,3,4,40,40,40] # 1\n",
    "list3=['Apple','Banana','Cherry'] # Apple\n",
    "list4=['Apple','Banana','Cherry',10,20,30] # error\n",
    "list5=['A',1,True,10.5] # Error\n",
    "list6=[1,2,3,['A','B','C']] # Error"
   ]
  },
  {
   "cell_type": "code",
   "execution_count": null,
   "id": "f12b6baa-c510-4416-994c-a02bbf20747b",
   "metadata": {},
   "outputs": [],
   "source": [
    "##### Max #################\n",
    "list1=[1,2,3,4]  #  4\n",
    "list2=[1,2,3,4,40,40,40] # 40\n",
    "list3=['Apple','Banana','Cherry'] # Cherry\n",
    "list4=['Apple','Banana','Cherry',10,20,30] # error\n",
    "list5=['A',1,True,10.5] # Error\n",
    "list6=[1,2,3,['A','B','C']] # Error"
   ]
  },
  {
   "cell_type": "code",
   "execution_count": 10,
   "id": "dc598454-1ce6-459d-b4b2-3000723375e2",
   "metadata": {},
   "outputs": [
    {
     "data": {
      "text/plain": [
       "([1, 2, 3, 4], [4, 3, 2, 1])"
      ]
     },
     "execution_count": 10,
     "metadata": {},
     "output_type": "execute_result"
    }
   ],
   "source": [
    "sorted(list1),sorted(list1,reverse=True)"
   ]
  },
  {
   "cell_type": "code",
   "execution_count": 11,
   "id": "8ef178c5-ee5c-4331-bdd9-72074fec9fbd",
   "metadata": {},
   "outputs": [
    {
     "data": {
      "text/plain": [
       "([1, 2, 3, 4, 40, 40, 40], [40, 40, 40, 4, 3, 2, 1])"
      ]
     },
     "execution_count": 11,
     "metadata": {},
     "output_type": "execute_result"
    }
   ],
   "source": [
    "sorted(list2),sorted(list2,reverse=True)"
   ]
  },
  {
   "cell_type": "code",
   "execution_count": 12,
   "id": "e0fe8971-f90f-4b29-8ba1-d4ef01b7cdc0",
   "metadata": {},
   "outputs": [
    {
     "data": {
      "text/plain": [
       "(['Apple', 'Banana', 'Cherry'], ['Cherry', 'Banana', 'Apple'])"
      ]
     },
     "execution_count": 12,
     "metadata": {},
     "output_type": "execute_result"
    }
   ],
   "source": [
    "sorted(list3),sorted(list3,reverse=True)"
   ]
  },
  {
   "cell_type": "code",
   "execution_count": 13,
   "id": "469719b0-2ed8-4b71-bbb5-86484cc556e4",
   "metadata": {},
   "outputs": [
    {
     "ename": "TypeError",
     "evalue": "'<' not supported between instances of 'int' and 'str'",
     "output_type": "error",
     "traceback": [
      "\u001b[1;31m---------------------------------------------------------------------------\u001b[0m",
      "\u001b[1;31mTypeError\u001b[0m                                 Traceback (most recent call last)",
      "Cell \u001b[1;32mIn[13], line 1\u001b[0m\n\u001b[1;32m----> 1\u001b[0m \u001b[38;5;28msorted\u001b[39m(list4),\u001b[38;5;28msorted\u001b[39m(list4,reverse\u001b[38;5;241m=\u001b[39m\u001b[38;5;28;01mTrue\u001b[39;00m)\n",
      "\u001b[1;31mTypeError\u001b[0m: '<' not supported between instances of 'int' and 'str'"
     ]
    }
   ],
   "source": [
    "sorted(list4),sorted(list4,reverse=True) # Error\n",
    "sorted(list5),sorted(list5,reverse=True) # Error\n",
    "sorted(list6),sorted(list6,reverse=True) # Error"
   ]
  },
  {
   "cell_type": "code",
   "execution_count": 19,
   "id": "0a606223-f4cc-433d-9fb3-082d35d172a3",
   "metadata": {},
   "outputs": [
    {
     "data": {
      "text/plain": [
       "[4, 3, 2, 1]"
      ]
     },
     "execution_count": 19,
     "metadata": {},
     "output_type": "execute_result"
    }
   ],
   "source": [
    "list(reversed(list1))"
   ]
  },
  {
   "cell_type": "code",
   "execution_count": 16,
   "id": "2b790d69-5ee1-4925-a190-317523cda502",
   "metadata": {},
   "outputs": [
    {
     "data": {
      "text/plain": [
       "list"
      ]
     },
     "execution_count": 16,
     "metadata": {},
     "output_type": "execute_result"
    }
   ],
   "source": [
    "type([1,2,3,4])"
   ]
  },
  {
   "cell_type": "code",
   "execution_count": 17,
   "id": "fca009a6-119a-483b-86b3-c989e38e3aa9",
   "metadata": {},
   "outputs": [
    {
     "data": {
      "text/plain": [
       "str"
      ]
     },
     "execution_count": 17,
     "metadata": {},
     "output_type": "execute_result"
    }
   ],
   "source": [
    "type('apple')"
   ]
  },
  {
   "cell_type": "code",
   "execution_count": 21,
   "id": "c85800e2-2a24-4071-9785-283df45c4061",
   "metadata": {},
   "outputs": [
    {
     "data": {
      "text/plain": [
       "[30, 20, 10, 'Cherry', 'Banana', 'Apple']"
      ]
     },
     "execution_count": 21,
     "metadata": {},
     "output_type": "execute_result"
    }
   ],
   "source": [
    "list(reversed(list4))\n",
    "# It is not comparing\n",
    "# It is just reverseing the elements"
   ]
  },
  {
   "cell_type": "markdown",
   "id": "ff00149f-1d71-4e9a-8906-98065e1dc377",
   "metadata": {},
   "source": [
    "**in**"
   ]
  },
  {
   "cell_type": "code",
   "execution_count": 27,
   "id": "9d2131c0-6f3d-48a9-9274-786bb5e182c4",
   "metadata": {},
   "outputs": [
    {
     "data": {
      "text/plain": [
       "False"
      ]
     },
     "execution_count": 27,
     "metadata": {},
     "output_type": "execute_result"
    }
   ],
   "source": [
    "1 in list1\n",
    "2 in list1\n",
    "3 in list1\n",
    "4 in list1\n",
    "5 in list1  # 5 is not available in list1"
   ]
  },
  {
   "cell_type": "code",
   "execution_count": 28,
   "id": "65f0461d-1f83-4a8a-a2cd-f493682dd037",
   "metadata": {},
   "outputs": [
    {
     "data": {
      "text/plain": [
       "True"
      ]
     },
     "execution_count": 28,
     "metadata": {},
     "output_type": "execute_result"
    }
   ],
   "source": [
    "1 in list1\n",
    "2 in list1\n",
    "3 in list1\n",
    "4 in list1\n",
    "\n",
    "#i in list1"
   ]
  },
  {
   "cell_type": "code",
   "execution_count": 29,
   "id": "a00a3b3e-ea1c-4d2c-ab10-e0cb07bd8ad8",
   "metadata": {},
   "outputs": [
    {
     "name": "stdout",
     "output_type": "stream",
     "text": [
      "1\n",
      "2\n",
      "3\n",
      "4\n"
     ]
    }
   ],
   "source": [
    "for i in list1:\n",
    "    print(i)"
   ]
  },
  {
   "cell_type": "markdown",
   "id": "4da8b3c3-0ca7-49ff-b481-7c78d0a43dea",
   "metadata": {},
   "source": [
    "**index**"
   ]
  },
  {
   "cell_type": "code",
   "execution_count": 32,
   "id": "9bc3f2db-928a-458e-8fe2-4d6282f9a122",
   "metadata": {},
   "outputs": [
    {
     "data": {
      "text/plain": [
       "('Apple', 30)"
      ]
     },
     "execution_count": 32,
     "metadata": {},
     "output_type": "execute_result"
    }
   ],
   "source": [
    "list4=['Apple','Banana','Cherry',10,20,30]\n",
    "list4[0],list4[-1]"
   ]
  },
  {
   "cell_type": "code",
   "execution_count": null,
   "id": "b5774101-de9a-458d-a812-f81666acf54f",
   "metadata": {},
   "outputs": [],
   "source": [
    "-6       -5      -4       -3 -2  -1\n",
    "'Apple','Banana','Cherry',10,20,30\n",
    "0        1        2       3  4  5"
   ]
  },
  {
   "cell_type": "code",
   "execution_count": 35,
   "id": "c6009db2-f659-4a87-8320-209a0135a88e",
   "metadata": {},
   "outputs": [
    {
     "name": "stdout",
     "output_type": "stream",
     "text": [
      "0 Apple -6\n",
      "1 Banana -5\n",
      "2 Cherry -4\n",
      "3 10 -3\n",
      "4 20 -2\n",
      "5 30 -1\n"
     ]
    }
   ],
   "source": [
    "for i in range(len(list4)):\n",
    "    print(i,list4[i],i-len(list4))"
   ]
  },
  {
   "cell_type": "code",
   "execution_count": 39,
   "id": "537ddf44-66f8-4bbe-b14e-2bebf946e210",
   "metadata": {},
   "outputs": [
    {
     "data": {
      "text/plain": [
       "10"
      ]
     },
     "execution_count": 39,
     "metadata": {},
     "output_type": "execute_result"
    }
   ],
   "source": [
    "list1=[1,2,3,[10]]\n",
    "len(list1) # here 4 elements are there\n",
    "# python index starts with zero\n",
    "list1[3] # The output list of 10\n",
    "list1[3][0]"
   ]
  },
  {
   "cell_type": "code",
   "execution_count": 43,
   "id": "7f76f7fe-e2dd-45a4-a8f8-9ccc46de98a6",
   "metadata": {},
   "outputs": [
    {
     "data": {
      "text/plain": [
       "20"
      ]
     },
     "execution_count": 43,
     "metadata": {},
     "output_type": "execute_result"
    }
   ],
   "source": [
    "list1=[1,2,3,[10,20]]\n",
    "list1[3][1]"
   ]
  },
  {
   "cell_type": "code",
   "execution_count": 49,
   "id": "f8758f7c-11c2-47a8-b2ac-6573285e635a",
   "metadata": {},
   "outputs": [
    {
     "data": {
      "text/plain": [
       "'Banana'"
      ]
     },
     "execution_count": 49,
     "metadata": {},
     "output_type": "execute_result"
    }
   ],
   "source": [
    "list1=[1,2,3,['Apple',['Banana']]]\n",
    "len(list1)\n",
    "len(list1[3])\n",
    "list1[3][1][0]"
   ]
  },
  {
   "cell_type": "code",
   "execution_count": 53,
   "id": "46a8a83e-9402-4a59-b343-3f5aca4dcd3f",
   "metadata": {},
   "outputs": [
    {
     "data": {
      "text/plain": [
       "'Cherry'"
      ]
     },
     "execution_count": 53,
     "metadata": {},
     "output_type": "execute_result"
    }
   ],
   "source": [
    "list1=[1,2,3,[['Apple','Banana',['Cherry']]]]\n",
    "list1[3][0][2][0]"
   ]
  },
  {
   "cell_type": "code",
   "execution_count": 55,
   "id": "511d7361-8b10-4059-8129-2c3162c878a7",
   "metadata": {},
   "outputs": [],
   "source": [
    "list1=['Mango',\n",
    "       ['India',\n",
    "        ['nagpur',\n",
    "         ['MH',\n",
    "          ['King',\n",
    "           ['shivaji',\n",
    "            ['Son',\n",
    "             ['Shamaji']\n",
    "            ]\n",
    "           ]\n",
    "          ]\n",
    "         ]\n",
    "        ]\n",
    "       ]\n",
    "      ]"
   ]
  },
  {
   "cell_type": "code",
   "execution_count": 56,
   "id": "b39fa41c-123e-45ee-99b6-4f96fc7358cb",
   "metadata": {},
   "outputs": [
    {
     "data": {
      "text/plain": [
       "['Mango',\n",
       " ['India', ['nagpur', ['MH', ['King', ['shivaji', ['Son', ['Shamaji']]]]]]]]"
      ]
     },
     "execution_count": 56,
     "metadata": {},
     "output_type": "execute_result"
    }
   ],
   "source": [
    "list1=['Mango',['India',['nagpur',['MH',['King',['shivaji',['Son',['Shamaji']]]]]]]]\n",
    "list1"
   ]
  },
  {
   "cell_type": "code",
   "execution_count": 57,
   "id": "29437d7b-5145-4076-8468-547beada6ed6",
   "metadata": {},
   "outputs": [
    {
     "data": {
      "text/plain": [
       "2"
      ]
     },
     "execution_count": 57,
     "metadata": {},
     "output_type": "execute_result"
    }
   ],
   "source": [
    "len(list1)"
   ]
  },
  {
   "cell_type": "code",
   "execution_count": 65,
   "id": "8bebcf7d-7559-47d6-8206-7e8675438317",
   "metadata": {},
   "outputs": [
    {
     "data": {
      "text/plain": [
       "'Shamaji'"
      ]
     },
     "execution_count": 65,
     "metadata": {},
     "output_type": "execute_result"
    }
   ],
   "source": [
    "list1[1][1][1][1][1][1][1][0]"
   ]
  },
  {
   "cell_type": "markdown",
   "id": "a89b740a-346c-4a80-930b-cad11402fa2a",
   "metadata": {},
   "source": [
    "**slice**"
   ]
  },
  {
   "cell_type": "code",
   "execution_count": 66,
   "id": "feba82b1-b790-49d0-9c21-865a8e0b9686",
   "metadata": {},
   "outputs": [
    {
     "data": {
      "text/plain": [
       "['Apple', 'Banana', 'Cherry', 'Dog', 10, 20, 30, 40, 50, 60]"
      ]
     },
     "execution_count": 66,
     "metadata": {},
     "output_type": "execute_result"
    }
   ],
   "source": [
    "list4=['Apple','Banana','Cherry','Dog',10,20,30,40,50,60]\n",
    "list4[:]"
   ]
  },
  {
   "cell_type": "code",
   "execution_count": 67,
   "id": "8f0cee76-0f4f-4faf-b79d-51149fb20578",
   "metadata": {},
   "outputs": [
    {
     "data": {
      "text/plain": [
       "['Apple', 'Banana', 'Cherry', 'Dog', 10, 20, 30, 40, 50, 60]"
      ]
     },
     "execution_count": 67,
     "metadata": {},
     "output_type": "execute_result"
    }
   ],
   "source": [
    "list4[::]"
   ]
  },
  {
   "cell_type": "code",
   "execution_count": 68,
   "id": "54696d23-d9ef-4699-bb9e-1f66dc756175",
   "metadata": {},
   "outputs": [
    {
     "data": {
      "text/plain": [
       "[60, 50, 40, 30, 20, 10, 'Dog', 'Cherry', 'Banana', 'Apple']"
      ]
     },
     "execution_count": 68,
     "metadata": {},
     "output_type": "execute_result"
    }
   ],
   "source": [
    "list4[::-1]"
   ]
  },
  {
   "cell_type": "code",
   "execution_count": 70,
   "id": "455b3ab8-a983-4a06-a2a0-59bc0cafad77",
   "metadata": {},
   "outputs": [
    {
     "data": {
      "text/plain": [
       "['Dog', 10, 20, 30, 40, 50, 60]"
      ]
     },
     "execution_count": 70,
     "metadata": {},
     "output_type": "execute_result"
    }
   ],
   "source": [
    "list4[3:100]"
   ]
  },
  {
   "cell_type": "code",
   "execution_count": 71,
   "id": "cb49863d-4f56-469d-a210-8eb3ee517f6b",
   "metadata": {},
   "outputs": [
    {
     "data": {
      "text/plain": [
       "['Dog', 10, 20, 30, 40]"
      ]
     },
     "execution_count": 71,
     "metadata": {},
     "output_type": "execute_result"
    }
   ],
   "source": [
    "list4[-7:-2]"
   ]
  },
  {
   "cell_type": "markdown",
   "id": "bff92d70-4085-465d-ab7a-83c8a297cacd",
   "metadata": {},
   "source": [
    "**mutable-immutable**"
   ]
  },
  {
   "cell_type": "code",
   "execution_count": 73,
   "id": "40b6f6af-4d95-4676-96f5-3f22ae878445",
   "metadata": {},
   "outputs": [
    {
     "data": {
      "text/plain": [
       "[10, 200, 30]"
      ]
     },
     "execution_count": 73,
     "metadata": {},
     "output_type": "execute_result"
    }
   ],
   "source": [
    "list1=[10,20,30]\n",
    "list1[1]=200\n",
    "list1"
   ]
  },
  {
   "cell_type": "markdown",
   "id": "a593cc16-a234-42b5-afe8-df07cadea76a",
   "metadata": {},
   "source": [
    "**lists are mutable**\n",
    "\n",
    "**strings are immutable**"
   ]
  },
  {
   "cell_type": "code",
   "execution_count": 75,
   "id": "a5cb4429-a05a-4d22-a344-0439d0c9bc67",
   "metadata": {},
   "outputs": [
    {
     "data": {
      "text/plain": [
       "[10, 200, 30, 'A', 'B', 'C']"
      ]
     },
     "execution_count": 75,
     "metadata": {},
     "output_type": "execute_result"
    }
   ],
   "source": [
    "lis1=[1,2,3]\n",
    "list2=['A','B','C']\n",
    "list3=list1+list2\n",
    "list3"
   ]
  },
  {
   "cell_type": "markdown",
   "id": "5e27c0f7-d40b-4865-9112-c671ffccf093",
   "metadata": {},
   "source": [
    "- multiplication of two lists are not possible\n",
    "\n",
    "- division and subtraction of two lists are not possible"
   ]
  },
  {
   "cell_type": "code",
   "execution_count": 76,
   "id": "2bd5566c-7f91-45d7-8a38-8cee93bd3b1f",
   "metadata": {},
   "outputs": [
    {
     "data": {
      "text/plain": [
       "[1, 2, 3, 1, 2, 3, 1, 2, 3]"
      ]
     },
     "execution_count": 76,
     "metadata": {},
     "output_type": "execute_result"
    }
   ],
   "source": [
    "list1=[1,2,3]\n",
    "list1*3"
   ]
  },
  {
   "cell_type": "code",
   "execution_count": 77,
   "id": "44a4eca3-791e-45a9-bfc5-042bc2e15e0f",
   "metadata": {},
   "outputs": [
    {
     "data": {
      "text/plain": [
       "[1, 2, 3, 1, 2, 3, 1, 2, 3]"
      ]
     },
     "execution_count": 77,
     "metadata": {},
     "output_type": "execute_result"
    }
   ],
   "source": [
    "list1+list1+list1"
   ]
  },
  {
   "cell_type": "markdown",
   "id": "2cf80ca0-0781-48ce-83a5-05d1115b11f3",
   "metadata": {},
   "source": [
    "**methods**"
   ]
  },
  {
   "cell_type": "code",
   "execution_count": 79,
   "id": "78dae4c0-a932-42a6-9156-0966a99721f5",
   "metadata": {},
   "outputs": [
    {
     "data": {
      "text/plain": [
       "['__add__',\n",
       " '__class__',\n",
       " '__class_getitem__',\n",
       " '__contains__',\n",
       " '__delattr__',\n",
       " '__delitem__',\n",
       " '__dir__',\n",
       " '__doc__',\n",
       " '__eq__',\n",
       " '__format__',\n",
       " '__ge__',\n",
       " '__getattribute__',\n",
       " '__getitem__',\n",
       " '__getstate__',\n",
       " '__gt__',\n",
       " '__hash__',\n",
       " '__iadd__',\n",
       " '__imul__',\n",
       " '__init__',\n",
       " '__init_subclass__',\n",
       " '__iter__',\n",
       " '__le__',\n",
       " '__len__',\n",
       " '__lt__',\n",
       " '__mul__',\n",
       " '__ne__',\n",
       " '__new__',\n",
       " '__reduce__',\n",
       " '__reduce_ex__',\n",
       " '__repr__',\n",
       " '__reversed__',\n",
       " '__rmul__',\n",
       " '__setattr__',\n",
       " '__setitem__',\n",
       " '__sizeof__',\n",
       " '__str__',\n",
       " '__subclasshook__',\n",
       " 'append',\n",
       " 'clear',\n",
       " 'copy',\n",
       " 'count',\n",
       " 'extend',\n",
       " 'index',\n",
       " 'insert',\n",
       " 'pop',\n",
       " 'remove',\n",
       " 'reverse',\n",
       " 'sort']"
      ]
     },
     "execution_count": 79,
     "metadata": {},
     "output_type": "execute_result"
    }
   ],
   "source": [
    "dir([])"
   ]
  },
  {
   "cell_type": "markdown",
   "id": "e535bfa6-042e-497e-8c96-7dbfc0b73f67",
   "metadata": {},
   "source": [
    "**append**"
   ]
  },
  {
   "cell_type": "code",
   "execution_count": 82,
   "id": "e62913ad-c33e-4978-b982-0dcdfde7c0d4",
   "metadata": {},
   "outputs": [
    {
     "data": {
      "text/plain": [
       "[1, 2, 3]"
      ]
     },
     "execution_count": 82,
     "metadata": {},
     "output_type": "execute_result"
    }
   ],
   "source": [
    "list1=[1,2,3]\n",
    "# I want to add a new element in the existed list\n",
    "list1+[40]\n",
    "list1"
   ]
  },
  {
   "cell_type": "code",
   "execution_count": 85,
   "id": "1b45d4ab-65ba-48cb-b188-695e0d59e23e",
   "metadata": {},
   "outputs": [
    {
     "data": {
      "text/plain": [
       "[1, 2, 3, 40]"
      ]
     },
     "execution_count": 85,
     "metadata": {},
     "output_type": "execute_result"
    }
   ],
   "source": [
    "list1=[1,2,3]\n",
    "list1.append(40)\n",
    "list1"
   ]
  },
  {
   "cell_type": "code",
   "execution_count": 87,
   "id": "ae8d94a7-a095-4891-9224-a7658b7d9f15",
   "metadata": {},
   "outputs": [
    {
     "data": {
      "text/plain": [
       "[10, 'A', [True, False]]"
      ]
     },
     "execution_count": 87,
     "metadata": {},
     "output_type": "execute_result"
    }
   ],
   "source": [
    "list1=[]\n",
    "list1.append(10)\n",
    "list1.append('A')\n",
    "list1.append([True,False])\n",
    "list1"
   ]
  },
  {
   "cell_type": "code",
   "execution_count": 88,
   "id": "9fc76748-f426-43ac-b205-4e5edbfa7d1b",
   "metadata": {},
   "outputs": [
    {
     "name": "stdout",
     "output_type": "stream",
     "text": [
      "0\n",
      "1\n",
      "2\n",
      "3\n",
      "4\n"
     ]
    }
   ],
   "source": [
    "# I want to store the results \n",
    "# list append method to store the result\n",
    "for i in range(5):\n",
    "    print(i)"
   ]
  },
  {
   "cell_type": "code",
   "execution_count": 90,
   "id": "1dfb06b0-6cdf-4dcc-87d1-9837e60eedba",
   "metadata": {},
   "outputs": [
    {
     "data": {
      "text/plain": [
       "[0, 1, 2, 3, 4]"
      ]
     },
     "execution_count": 90,
     "metadata": {},
     "output_type": "execute_result"
    }
   ],
   "source": [
    "list1=[]\n",
    "for i in range(5):\n",
    "    list1.append(i)\n",
    "list1"
   ]
  },
  {
   "cell_type": "code",
   "execution_count": 91,
   "id": "dbe4ff95-6133-4ad7-b4b1-1984008b4b09",
   "metadata": {},
   "outputs": [
    {
     "name": "stdout",
     "output_type": "stream",
     "text": [
      "even:44\n",
      "odd:45\n",
      "odd:25\n",
      "even:12\n",
      "even:10\n"
     ]
    }
   ],
   "source": [
    "import random\n",
    "for i in range(5):\n",
    "    num=random.randint(1,100)\n",
    "    if num%2==0:\n",
    "        print(f\"even:{num}\")\n",
    "    else:\n",
    "        print(f\"odd:{num}\")"
   ]
  },
  {
   "cell_type": "code",
   "execution_count": 92,
   "id": "21cc9afa-5b1f-44b4-87ed-3167fc3bde92",
   "metadata": {},
   "outputs": [
    {
     "data": {
      "text/plain": [
       "['odd:91', 'odd:71', 'even:8', 'odd:93', 'odd:81']"
      ]
     },
     "execution_count": 92,
     "metadata": {},
     "output_type": "execute_result"
    }
   ],
   "source": [
    "import random\n",
    "list1=[]\n",
    "for i in range(5):\n",
    "    num=random.randint(1,100)\n",
    "    if num%2==0:\n",
    "        list1.append(f\"even:{num}\")\n",
    "    else:\n",
    "        list1.append(f\"odd:{num}\")\n",
    "\n",
    "list1"
   ]
  },
  {
   "cell_type": "code",
   "execution_count": 94,
   "id": "a0f11b60-071e-4696-9d7d-07a9d0b25885",
   "metadata": {},
   "outputs": [
    {
     "data": {
      "text/plain": [
       "(['even:56', 'even:76', 'even:32'], ['odd:95', 'odd:81'])"
      ]
     },
     "execution_count": 94,
     "metadata": {},
     "output_type": "execute_result"
    }
   ],
   "source": [
    "import random\n",
    "even,odd=[],[]\n",
    "for i in range(5):\n",
    "    num=random.randint(1,100)\n",
    "    if num%2==0:\n",
    "        even.append(f\"even:{num}\")\n",
    "    else:\n",
    "        odd.append(f\"odd:{num}\")\n",
    "\n",
    "even,odd"
   ]
  },
  {
   "cell_type": "code",
   "execution_count": 95,
   "id": "3f247204-e971-4f0f-934b-24ab9fe929e5",
   "metadata": {},
   "outputs": [
    {
     "data": {
      "text/plain": [
       "([40, 44], [13, 13, 85])"
      ]
     },
     "execution_count": 95,
     "metadata": {},
     "output_type": "execute_result"
    }
   ],
   "source": [
    "import random\n",
    "even,odd=[],[]\n",
    "for i in range(5):\n",
    "    num=random.randint(1,100)\n",
    "    if num%2==0:\n",
    "        even.append(num)\n",
    "    else:\n",
    "        odd.append(num)\n",
    "\n",
    "even,odd"
   ]
  },
  {
   "cell_type": "code",
   "execution_count": 99,
   "id": "11c9105b-3412-40e6-b086-5368a6583c4d",
   "metadata": {},
   "outputs": [
    {
     "data": {
      "text/plain": [
       "(84, 111, 2, 3)"
      ]
     },
     "execution_count": 99,
     "metadata": {},
     "output_type": "execute_result"
    }
   ],
   "source": [
    "sum(even),sum(odd),len(even),len(odd)"
   ]
  },
  {
   "cell_type": "markdown",
   "id": "3bec297e-f07f-461c-b7ee-fe445933fdfe",
   "metadata": {},
   "source": [
    "**clear-copy**"
   ]
  },
  {
   "cell_type": "code",
   "execution_count": 101,
   "id": "4e217da1-3baa-4b31-b06d-d5c3d443cd11",
   "metadata": {},
   "outputs": [
    {
     "data": {
      "text/plain": [
       "[]"
      ]
     },
     "execution_count": 101,
     "metadata": {},
     "output_type": "execute_result"
    }
   ],
   "source": [
    "list1=[1,2,3,4]\n",
    "list1.clear()\n",
    "list1"
   ]
  },
  {
   "cell_type": "markdown",
   "id": "5d37ad68-12cb-47ee-94ac-e7b734eb45e7",
   "metadata": {},
   "source": [
    "**copy**"
   ]
  },
  {
   "cell_type": "code",
   "execution_count": 102,
   "id": "192a3e39-8f18-4204-b46b-378ca2361799",
   "metadata": {},
   "outputs": [
    {
     "data": {
      "text/plain": [
       "([], [1, 2, 3, 4])"
      ]
     },
     "execution_count": 102,
     "metadata": {},
     "output_type": "execute_result"
    }
   ],
   "source": [
    "list1=[1,2,3,4]\n",
    "list2=list1.copy()\n",
    "list1.clear()\n",
    "list1,list2"
   ]
  },
  {
   "cell_type": "markdown",
   "id": "6dee520e-0ace-4718-a0e3-8f4623c39ffa",
   "metadata": {},
   "source": [
    "**count**"
   ]
  },
  {
   "cell_type": "code",
   "execution_count": 103,
   "id": "c24e89ce-dcad-40a2-8578-79d538ed5cd7",
   "metadata": {},
   "outputs": [
    {
     "data": {
      "text/plain": [
       "3"
      ]
     },
     "execution_count": 103,
     "metadata": {},
     "output_type": "execute_result"
    }
   ],
   "source": [
    "list1=[1,2,3,10,10,10,40]\n",
    "list1.count(10)"
   ]
  },
  {
   "cell_type": "code",
   "execution_count": 104,
   "id": "d5ac91b8-eced-4ae7-a2e7-4391813e2876",
   "metadata": {},
   "outputs": [
    {
     "data": {
      "text/plain": [
       "0"
      ]
     },
     "execution_count": 104,
     "metadata": {},
     "output_type": "execute_result"
    }
   ],
   "source": [
    "list1.count(100)"
   ]
  },
  {
   "cell_type": "markdown",
   "id": "f1f13ca4-8739-454f-9821-7804d1c9dba0",
   "metadata": {},
   "source": [
    "**Extend**"
   ]
  },
  {
   "cell_type": "code",
   "execution_count": 106,
   "id": "6bce0619-1415-48b5-a0de-2e7672b48e01",
   "metadata": {},
   "outputs": [
    {
     "data": {
      "text/plain": [
       "[1, 2, 3, 4, 'A', 'B', 'C']"
      ]
     },
     "execution_count": 106,
     "metadata": {},
     "output_type": "execute_result"
    }
   ],
   "source": [
    "list1=[1,2,3,4]\n",
    "list2=['A','B','C']\n",
    "list1.extend(list2)\n",
    "list1"
   ]
  },
  {
   "cell_type": "code",
   "execution_count": 108,
   "id": "f85e7eab-dfba-44ad-a968-ee471d4eb06f",
   "metadata": {},
   "outputs": [
    {
     "data": {
      "text/plain": [
       "[1, 2, 3, 4]"
      ]
     },
     "execution_count": 108,
     "metadata": {},
     "output_type": "execute_result"
    }
   ],
   "source": [
    "list1=[1,2,3,4]\n",
    "list2=['A','B','C']\n",
    "list1+list2\n",
    "list1"
   ]
  },
  {
   "cell_type": "code",
   "execution_count": 109,
   "id": "f45ef41d-d254-4eb3-b7c7-aba2e4d9f4bd",
   "metadata": {},
   "outputs": [
    {
     "data": {
      "text/plain": [
       "['A', 'B', 'C', 1, 2, 3, 4]"
      ]
     },
     "execution_count": 109,
     "metadata": {},
     "output_type": "execute_result"
    }
   ],
   "source": [
    "list1=[1,2,3,4]\n",
    "list2=['A','B','C']\n",
    "list2.extend(list1)\n",
    "list2"
   ]
  },
  {
   "cell_type": "code",
   "execution_count": 112,
   "id": "4f510e0c-8321-432c-b50e-c96bfdc5c656",
   "metadata": {},
   "outputs": [
    {
     "data": {
      "text/plain": [
       "['A', 'B', 'C']"
      ]
     },
     "execution_count": 112,
     "metadata": {},
     "output_type": "execute_result"
    }
   ],
   "source": [
    "list1=[1,2,3,4]\n",
    "list2=['A','B','C']\n",
    "list2+list1\n",
    "list2"
   ]
  },
  {
   "cell_type": "code",
   "execution_count": 114,
   "id": "3fd6ed58-20f0-4f47-873b-45e04db807cd",
   "metadata": {},
   "outputs": [
    {
     "data": {
      "text/plain": [
       "[1, 2, 3, 4, ['A', 'B', 'C']]"
      ]
     },
     "execution_count": 114,
     "metadata": {},
     "output_type": "execute_result"
    }
   ],
   "source": [
    "list1=[1,2,3,4]\n",
    "list2=['A','B','C']\n",
    "list1.append(list2) \n",
    "list1 # [1,2,3,4,['A','B','C']]"
   ]
  },
  {
   "cell_type": "code",
   "execution_count": 115,
   "id": "e393384b-de56-4372-b36a-ad37cbf3a002",
   "metadata": {},
   "outputs": [
    {
     "data": {
      "text/plain": [
       "[1, 2, 3, 4, 'A', 'B', 'C']"
      ]
     },
     "execution_count": 115,
     "metadata": {},
     "output_type": "execute_result"
    }
   ],
   "source": [
    "list1=[1,2,3,4]\n",
    "list2=['A','B','C']\n",
    "list1.extend(list2) \n",
    "list1 # [1,2,3,4,'A','B','C']"
   ]
  },
  {
   "cell_type": "code",
   "execution_count": 116,
   "id": "fa185306-12c2-4778-b8f2-674b96104183",
   "metadata": {},
   "outputs": [
    {
     "data": {
      "text/plain": [
       "[1, 2, 3, 4]"
      ]
     },
     "execution_count": 116,
     "metadata": {},
     "output_type": "execute_result"
    }
   ],
   "source": [
    "list1=[1,2,3,4]\n",
    "list2=['A','B','C']\n",
    "list1+list2 # [1,2,3,4,'A','B','C']\n",
    "list1  # [1,2,3,4]"
   ]
  },
  {
   "cell_type": "markdown",
   "id": "893909ed-810e-44ef-817d-1727e2d4e836",
   "metadata": {},
   "source": [
    "**index**"
   ]
  },
  {
   "cell_type": "code",
   "execution_count": 122,
   "id": "f6cb4e17-6fc6-4c74-97e3-d7e82677324c",
   "metadata": {},
   "outputs": [
    {
     "data": {
      "text/plain": [
       "8"
      ]
     },
     "execution_count": 122,
     "metadata": {},
     "output_type": "execute_result"
    }
   ],
   "source": [
    "list1=[1,2,3,10,10,10,40,60,10]\n",
    "i1=list1.index(10)\n",
    "i2=list1.index(10,1+i1)\n",
    "i3=list1.index(10,1+i2)\n",
    "i4=list1.index(10,1+i3)\n",
    "i4"
   ]
  },
  {
   "cell_type": "code",
   "execution_count": 123,
   "id": "70a3f068-042b-4293-afea-9800b20ed023",
   "metadata": {},
   "outputs": [
    {
     "data": {
      "text/plain": [
       "['hello', 'hai', 'how', 'are', 'you']"
      ]
     },
     "execution_count": 123,
     "metadata": {},
     "output_type": "execute_result"
    }
   ],
   "source": [
    "# There is no find in list methods\n",
    "string='hello hai how are you'\n",
    "string.split()"
   ]
  },
  {
   "cell_type": "code",
   "execution_count": 125,
   "id": "479156ba-8d43-46e0-b71a-a8bf9fd5fea8",
   "metadata": {},
   "outputs": [
    {
     "data": {
      "text/plain": [
       "'Hello Hai How Are You'"
      ]
     },
     "execution_count": 125,
     "metadata": {},
     "output_type": "execute_result"
    }
   ],
   "source": [
    "string='hello hai how are you'\n",
    "string.capitalize()\n",
    "string.title()"
   ]
  },
  {
   "cell_type": "code",
   "execution_count": 128,
   "id": "e204ea4f-9cd0-4d5d-bf58-8db93c23a29d",
   "metadata": {},
   "outputs": [
    {
     "data": {
      "text/plain": [
       "'Hai'"
      ]
     },
     "execution_count": 128,
     "metadata": {},
     "output_type": "execute_result"
    }
   ],
   "source": [
    "string='hello hai how are you'\n",
    "string.split()[1].capitalize()"
   ]
  },
  {
   "cell_type": "markdown",
   "id": "b6e9946b-a6df-4dbe-9afe-1caaa769dc96",
   "metadata": {},
   "source": [
    "**insert**"
   ]
  },
  {
   "cell_type": "markdown",
   "id": "893b61fc-9e50-423a-9b03-2b31285bfd55",
   "metadata": {},
   "source": [
    "- I want insert a specific value at the postition\n",
    "\n",
    "- append also insrt the value but at last postion"
   ]
  },
  {
   "cell_type": "code",
   "execution_count": 130,
   "id": "68c5d557-8dae-4b4e-8a9d-b3897be7ad1a",
   "metadata": {},
   "outputs": [
    {
     "data": {
      "text/plain": [
       "[10, 20, 30, 40, 'A', 'B', 'C']"
      ]
     },
     "execution_count": 130,
     "metadata": {},
     "output_type": "execute_result"
    }
   ],
   "source": [
    "list1=[10,20,30,40,'A','B']\n",
    "list1.append('C')\n",
    "list1"
   ]
  },
  {
   "cell_type": "code",
   "execution_count": null,
   "id": "674d2163-e81c-4bef-a853-b194ad5907db",
   "metadata": {},
   "outputs": [],
   "source": [
    "10,20,30,40,'A','B'\n",
    "0   1  2  3  4   5\n",
    "\n",
    "10,20,30,'C',40,'A','B'\n",
    "0  1   2  3  4   5   6"
   ]
  },
  {
   "cell_type": "code",
   "execution_count": 131,
   "id": "09571ca8-e122-413d-a0f9-7c77a993ea3e",
   "metadata": {},
   "outputs": [
    {
     "data": {
      "text/plain": [
       "[10, 20, 30, 'C', 40, 'A', 'B']"
      ]
     },
     "execution_count": 131,
     "metadata": {},
     "output_type": "execute_result"
    }
   ],
   "source": [
    "list1=[10,20,30,40,'A','B']\n",
    "list1.insert(3,'C')\n",
    "list1"
   ]
  },
  {
   "cell_type": "code",
   "execution_count": 132,
   "id": "0aab23d7-98cd-45d4-87b1-9fded7920a99",
   "metadata": {},
   "outputs": [
    {
     "data": {
      "text/plain": [
       "[10, 20, 'C', 30, 40, 'A', 'B']"
      ]
     },
     "execution_count": 132,
     "metadata": {},
     "output_type": "execute_result"
    }
   ],
   "source": [
    "list1=[10,20,30,40,'A','B']\n",
    "id=list1.index(30)\n",
    "list1.insert(id,'C')\n",
    "list1"
   ]
  },
  {
   "cell_type": "code",
   "execution_count": 133,
   "id": "cebd9622-1e8c-46ea-9aca-e29315a5eb33",
   "metadata": {},
   "outputs": [
    {
     "data": {
      "text/plain": [
       "['__add__',\n",
       " '__class__',\n",
       " '__class_getitem__',\n",
       " '__contains__',\n",
       " '__delattr__',\n",
       " '__delitem__',\n",
       " '__dir__',\n",
       " '__doc__',\n",
       " '__eq__',\n",
       " '__format__',\n",
       " '__ge__',\n",
       " '__getattribute__',\n",
       " '__getitem__',\n",
       " '__getstate__',\n",
       " '__gt__',\n",
       " '__hash__',\n",
       " '__iadd__',\n",
       " '__imul__',\n",
       " '__init__',\n",
       " '__init_subclass__',\n",
       " '__iter__',\n",
       " '__le__',\n",
       " '__len__',\n",
       " '__lt__',\n",
       " '__mul__',\n",
       " '__ne__',\n",
       " '__new__',\n",
       " '__reduce__',\n",
       " '__reduce_ex__',\n",
       " '__repr__',\n",
       " '__reversed__',\n",
       " '__rmul__',\n",
       " '__setattr__',\n",
       " '__setitem__',\n",
       " '__sizeof__',\n",
       " '__str__',\n",
       " '__subclasshook__',\n",
       " 'append',\n",
       " 'clear',\n",
       " 'copy',\n",
       " 'count',\n",
       " 'extend',\n",
       " 'index',\n",
       " 'insert',\n",
       " 'pop',\n",
       " 'remove',\n",
       " 'reverse',\n",
       " 'sort']"
      ]
     },
     "execution_count": 133,
     "metadata": {},
     "output_type": "execute_result"
    }
   ],
   "source": [
    "dir([])"
   ]
  },
  {
   "cell_type": "markdown",
   "id": "dc4a90d0-7c73-413a-ae7e-3107453dbc2a",
   "metadata": {},
   "source": [
    "**pop-remove**"
   ]
  },
  {
   "cell_type": "code",
   "execution_count": 135,
   "id": "5c917aa4-389e-4542-9466-25ca7f720359",
   "metadata": {},
   "outputs": [
    {
     "data": {
      "text/plain": [
       "[10, 20, 40, 'A', 'B']"
      ]
     },
     "execution_count": 135,
     "metadata": {},
     "output_type": "execute_result"
    }
   ],
   "source": [
    "list1=[10,20,30,40,'A','B']\n",
    "list1.pop(2)\n",
    "# it will say that you provided the index\n",
    "# so im saying at index=2 , I have a value 30\n",
    "list1"
   ]
  },
  {
   "cell_type": "code",
   "execution_count": 136,
   "id": "376cbd2c-5e20-4afb-bad4-c0aa4b271ccd",
   "metadata": {},
   "outputs": [
    {
     "data": {
      "text/plain": [
       "[10, 20, 40, 'A', 'B']"
      ]
     },
     "execution_count": 136,
     "metadata": {},
     "output_type": "execute_result"
    }
   ],
   "source": [
    "list1=[10,20,30,40,'A','B']\n",
    "list1.remove(30)\n",
    "list1"
   ]
  },
  {
   "cell_type": "code",
   "execution_count": 137,
   "id": "3df645b4-61fb-44ec-8e69-007219d3360f",
   "metadata": {},
   "outputs": [
    {
     "data": {
      "text/plain": [
       "[10, 20, 40, 30, 'A', 'B']"
      ]
     },
     "execution_count": 137,
     "metadata": {},
     "output_type": "execute_result"
    }
   ],
   "source": [
    "list1=[10,20,30,40,30,'A','B']\n",
    "list1.remove(30)  # First occurence\n",
    "list1"
   ]
  },
  {
   "cell_type": "code",
   "execution_count": 138,
   "id": "e572620c-bfa6-4dd7-9a8f-8e68a7beff0b",
   "metadata": {},
   "outputs": [
    {
     "data": {
      "text/plain": [
       "[10, 20, 30, 40, 'A', 'B']"
      ]
     },
     "execution_count": 138,
     "metadata": {},
     "output_type": "execute_result"
    }
   ],
   "source": [
    "# If you want to delete the second 30\n",
    "# using remove option not possible\n",
    "# at this situations we will use pop method\n",
    "list1=[10,20,30,40,30,'A','B']\n",
    "list1.pop(4)  # second occurence\n",
    "list1"
   ]
  },
  {
   "cell_type": "code",
   "execution_count": 140,
   "id": "71aff512-56de-4250-b442-15a94211b096",
   "metadata": {},
   "outputs": [
    {
     "data": {
      "text/plain": [
       "[10, 20, 30, 40, 'A', 'B']"
      ]
     },
     "execution_count": 140,
     "metadata": {},
     "output_type": "execute_result"
    }
   ],
   "source": [
    "list1=[10,20,30,40,30,'A','B']\n",
    "id1=list1.index(30)\n",
    "id2=list1.index(30,1+id1)\n",
    "list1.pop(id2)\n",
    "list1"
   ]
  },
  {
   "cell_type": "markdown",
   "id": "f1a28e65-40a2-4858-9db4-406a9a9e173a",
   "metadata": {},
   "source": [
    "**del**"
   ]
  },
  {
   "cell_type": "code",
   "execution_count": 143,
   "id": "22aa28e0-524c-43c5-a08d-b465fac377ff",
   "metadata": {},
   "outputs": [
    {
     "data": {
      "text/plain": [
       "[10, 20, 40, 30, 'A', 'B']"
      ]
     },
     "execution_count": 143,
     "metadata": {},
     "output_type": "execute_result"
    }
   ],
   "source": [
    "list1=[10,20,30,40,30,'A','B']\n",
    "del(list1[2])\n",
    "list1"
   ]
  },
  {
   "cell_type": "code",
   "execution_count": null,
   "id": "fe05e15f-fae4-4f0c-be07-e93a172069df",
   "metadata": {},
   "outputs": [],
   "source": [
    "type(),min(),max(),del()"
   ]
  },
  {
   "cell_type": "code",
   "execution_count": 144,
   "id": "ff454d9c-6c5f-44ca-883b-6617d55f2c03",
   "metadata": {},
   "outputs": [
    {
     "ename": "NameError",
     "evalue": "name 'list1' is not defined",
     "output_type": "error",
     "traceback": [
      "\u001b[1;31m---------------------------------------------------------------------------\u001b[0m",
      "\u001b[1;31mNameError\u001b[0m                                 Traceback (most recent call last)",
      "Cell \u001b[1;32mIn[144], line 3\u001b[0m\n\u001b[0;32m      1\u001b[0m list1\u001b[38;5;241m=\u001b[39m[\u001b[38;5;241m10\u001b[39m,\u001b[38;5;241m20\u001b[39m,\u001b[38;5;241m30\u001b[39m,\u001b[38;5;241m40\u001b[39m,\u001b[38;5;241m30\u001b[39m,\u001b[38;5;124m'\u001b[39m\u001b[38;5;124mA\u001b[39m\u001b[38;5;124m'\u001b[39m,\u001b[38;5;124m'\u001b[39m\u001b[38;5;124mB\u001b[39m\u001b[38;5;124m'\u001b[39m]\n\u001b[0;32m      2\u001b[0m \u001b[38;5;28;01mdel\u001b[39;00m(list1)\n\u001b[1;32m----> 3\u001b[0m list1\n",
      "\u001b[1;31mNameError\u001b[0m: name 'list1' is not defined"
     ]
    }
   ],
   "source": [
    "list1=[10,20,30,40,30,'A','B']\n",
    "del(list1) # already deleted\n",
    "list1     # we are printing again list1 which is already deleted"
   ]
  },
  {
   "cell_type": "markdown",
   "id": "e59765ae-cfe6-4844-9e9a-a9091f226ebe",
   "metadata": {},
   "source": [
    "**join**"
   ]
  },
  {
   "cell_type": "markdown",
   "id": "11c806af-112d-4432-a627-3c26b24376ee",
   "metadata": {},
   "source": [
    "- we have two things\n",
    "\n",
    "- split will works on strings \n",
    "\n",
    "- joins will works on list\n",
    "\n",
    "- when we split the string, it will represnt in a list format\n",
    "\n",
    "- if we want combine the list of elemnts and form a string then we will use join"
   ]
  },
  {
   "cell_type": "code",
   "execution_count": 147,
   "id": "166e6e30-c3c6-4b5a-813c-7b747028ca80",
   "metadata": {},
   "outputs": [
    {
     "data": {
      "text/plain": [
       "['hai', 'how', 'are', 'you']"
      ]
     },
     "execution_count": 147,
     "metadata": {},
     "output_type": "execute_result"
    }
   ],
   "source": [
    "string='hai how are you'\n",
    "l=string.split()\n",
    "l"
   ]
  },
  {
   "cell_type": "code",
   "execution_count": 152,
   "id": "bffc1837-8ab1-4cd7-b8b7-35f3af980c07",
   "metadata": {},
   "outputs": [
    {
     "data": {
      "text/plain": [
       "'hai how are you'"
      ]
     },
     "execution_count": 152,
     "metadata": {},
     "output_type": "execute_result"
    }
   ],
   "source": [
    "' '.join(l)"
   ]
  },
  {
   "cell_type": "code",
   "execution_count": 153,
   "id": "1a9125c4-17a2-4606-8165-f77036b7e04b",
   "metadata": {},
   "outputs": [
    {
     "data": {
      "text/plain": [
       "['__add__',\n",
       " '__class__',\n",
       " '__class_getitem__',\n",
       " '__contains__',\n",
       " '__delattr__',\n",
       " '__delitem__',\n",
       " '__dir__',\n",
       " '__doc__',\n",
       " '__eq__',\n",
       " '__format__',\n",
       " '__ge__',\n",
       " '__getattribute__',\n",
       " '__getitem__',\n",
       " '__getstate__',\n",
       " '__gt__',\n",
       " '__hash__',\n",
       " '__iadd__',\n",
       " '__imul__',\n",
       " '__init__',\n",
       " '__init_subclass__',\n",
       " '__iter__',\n",
       " '__le__',\n",
       " '__len__',\n",
       " '__lt__',\n",
       " '__mul__',\n",
       " '__ne__',\n",
       " '__new__',\n",
       " '__reduce__',\n",
       " '__reduce_ex__',\n",
       " '__repr__',\n",
       " '__reversed__',\n",
       " '__rmul__',\n",
       " '__setattr__',\n",
       " '__setitem__',\n",
       " '__sizeof__',\n",
       " '__str__',\n",
       " '__subclasshook__',\n",
       " 'append',\n",
       " 'clear',\n",
       " 'copy',\n",
       " 'count',\n",
       " 'extend',\n",
       " 'index',\n",
       " 'insert',\n",
       " 'pop',\n",
       " 'remove',\n",
       " 'reverse',\n",
       " 'sort']"
      ]
     },
     "execution_count": 153,
     "metadata": {},
     "output_type": "execute_result"
    }
   ],
   "source": [
    "dir([])"
   ]
  },
  {
   "cell_type": "markdown",
   "id": "9b9ec870-73cb-402a-89d1-1709cd1a891b",
   "metadata": {},
   "source": [
    "**sorted-sort**"
   ]
  },
  {
   "cell_type": "markdown",
   "id": "6e678824-4f0c-4f47-97fd-f87884e6ef13",
   "metadata": {},
   "source": [
    "- sorted is inbuilt function\n",
    "\n",
    "- sort is a list method\n"
   ]
  },
  {
   "cell_type": "code",
   "execution_count": null,
   "id": "9fbf6e49-0eca-432f-bf23-d6178ef2869c",
   "metadata": {},
   "outputs": [],
   "source": [
    "# sorted(list)\n",
    "# list.sort()\n",
    "# type(list),min(l),max(l),sorted(l)\n",
    "# list.append,list.count,list.index,list.sort"
   ]
  },
  {
   "cell_type": "code",
   "execution_count": 163,
   "id": "26089f22-cb44-4200-b9cd-9457631e67e6",
   "metadata": {},
   "outputs": [
    {
     "data": {
      "text/plain": [
       "([2, 4, 10, 30], [10, 2, 30, 4])"
      ]
     },
     "execution_count": 163,
     "metadata": {},
     "output_type": "execute_result"
    }
   ],
   "source": [
    "list1=[10,2,30,4]\n",
    "sorted(list1),list1"
   ]
  },
  {
   "cell_type": "code",
   "execution_count": 160,
   "id": "0344fbad-8f03-449b-a2a8-d95fff7c8a33",
   "metadata": {},
   "outputs": [
    {
     "data": {
      "text/plain": [
       "[2, 4, 10, 30]"
      ]
     },
     "execution_count": 160,
     "metadata": {},
     "output_type": "execute_result"
    }
   ],
   "source": [
    "list1=[10,2,30,4]\n",
    "list1.sort()\n",
    "list1  # ans will overwrite"
   ]
  },
  {
   "cell_type": "code",
   "execution_count": null,
   "id": "8c15443e-888f-4f8e-b324-156ad0be626a",
   "metadata": {},
   "outputs": [],
   "source": [
    "# sorted is in built function\n",
    "# inbuilt functions works for string and list\n",
    "# but sort method related only list\n",
    "# not for strings"
   ]
  },
  {
   "cell_type": "code",
   "execution_count": 164,
   "id": "38d50103-fdd0-4288-b6a7-18ab7b438add",
   "metadata": {},
   "outputs": [
    {
     "data": {
      "text/plain": [
       "['__add__',\n",
       " '__class__',\n",
       " '__contains__',\n",
       " '__delattr__',\n",
       " '__dir__',\n",
       " '__doc__',\n",
       " '__eq__',\n",
       " '__format__',\n",
       " '__ge__',\n",
       " '__getattribute__',\n",
       " '__getitem__',\n",
       " '__getnewargs__',\n",
       " '__getstate__',\n",
       " '__gt__',\n",
       " '__hash__',\n",
       " '__init__',\n",
       " '__init_subclass__',\n",
       " '__iter__',\n",
       " '__le__',\n",
       " '__len__',\n",
       " '__lt__',\n",
       " '__mod__',\n",
       " '__mul__',\n",
       " '__ne__',\n",
       " '__new__',\n",
       " '__reduce__',\n",
       " '__reduce_ex__',\n",
       " '__repr__',\n",
       " '__rmod__',\n",
       " '__rmul__',\n",
       " '__setattr__',\n",
       " '__sizeof__',\n",
       " '__str__',\n",
       " '__subclasshook__',\n",
       " 'capitalize',\n",
       " 'casefold',\n",
       " 'center',\n",
       " 'count',\n",
       " 'encode',\n",
       " 'endswith',\n",
       " 'expandtabs',\n",
       " 'find',\n",
       " 'format',\n",
       " 'format_map',\n",
       " 'index',\n",
       " 'isalnum',\n",
       " 'isalpha',\n",
       " 'isascii',\n",
       " 'isdecimal',\n",
       " 'isdigit',\n",
       " 'isidentifier',\n",
       " 'islower',\n",
       " 'isnumeric',\n",
       " 'isprintable',\n",
       " 'isspace',\n",
       " 'istitle',\n",
       " 'isupper',\n",
       " 'join',\n",
       " 'ljust',\n",
       " 'lower',\n",
       " 'lstrip',\n",
       " 'maketrans',\n",
       " 'partition',\n",
       " 'removeprefix',\n",
       " 'removesuffix',\n",
       " 'replace',\n",
       " 'rfind',\n",
       " 'rindex',\n",
       " 'rjust',\n",
       " 'rpartition',\n",
       " 'rsplit',\n",
       " 'rstrip',\n",
       " 'split',\n",
       " 'splitlines',\n",
       " 'startswith',\n",
       " 'strip',\n",
       " 'swapcase',\n",
       " 'title',\n",
       " 'translate',\n",
       " 'upper',\n",
       " 'zfill']"
      ]
     },
     "execution_count": 164,
     "metadata": {},
     "output_type": "execute_result"
    }
   ],
   "source": [
    "dir('')"
   ]
  },
  {
   "cell_type": "code",
   "execution_count": 167,
   "id": "20433215-fa40-4f14-a78d-2af9448e15e0",
   "metadata": {},
   "outputs": [
    {
     "data": {
      "text/plain": [
       "(['a', 'e', 'l', 'p', 'p'], [2, 4, 10, 30])"
      ]
     },
     "execution_count": 167,
     "metadata": {},
     "output_type": "execute_result"
    }
   ],
   "source": [
    "sorted('apple'),sorted([10,2,30,4])"
   ]
  },
  {
   "cell_type": "code",
   "execution_count": 168,
   "id": "923a9159-f143-458a-97f2-099ccb3e3201",
   "metadata": {},
   "outputs": [],
   "source": [
    "[10,2,30,4].sort()"
   ]
  },
  {
   "cell_type": "code",
   "execution_count": 169,
   "id": "aa6be027-ffbd-4a93-a860-7ba2180bde80",
   "metadata": {},
   "outputs": [
    {
     "ename": "AttributeError",
     "evalue": "'str' object has no attribute 'sort'",
     "output_type": "error",
     "traceback": [
      "\u001b[1;31m---------------------------------------------------------------------------\u001b[0m",
      "\u001b[1;31mAttributeError\u001b[0m                            Traceback (most recent call last)",
      "Cell \u001b[1;32mIn[169], line 1\u001b[0m\n\u001b[1;32m----> 1\u001b[0m \u001b[38;5;124m'\u001b[39m\u001b[38;5;124mapple\u001b[39m\u001b[38;5;124m'\u001b[39m\u001b[38;5;241m.\u001b[39msort()\n",
      "\u001b[1;31mAttributeError\u001b[0m: 'str' object has no attribute 'sort'"
     ]
    }
   ],
   "source": [
    "'apple'.sort()"
   ]
  },
  {
   "cell_type": "markdown",
   "id": "75efc743-c8f4-467b-a18e-21018e58cf58",
   "metadata": {},
   "source": [
    "**reversed and reverse**"
   ]
  },
  {
   "cell_type": "code",
   "execution_count": 171,
   "id": "4e5ced6a-5fcd-4781-a3d3-b1322ea74c55",
   "metadata": {},
   "outputs": [
    {
     "data": {
      "text/plain": [
       "[4, 30, 2, 10]"
      ]
     },
     "execution_count": 171,
     "metadata": {},
     "output_type": "execute_result"
    }
   ],
   "source": [
    "list1=[10,2,30,4]\n",
    "list(reversed(list1))"
   ]
  },
  {
   "cell_type": "code",
   "execution_count": 173,
   "id": "b87cae0e-0c22-477b-8209-28f44ab2afe5",
   "metadata": {},
   "outputs": [
    {
     "data": {
      "text/plain": [
       "[4, 30, 2, 10]"
      ]
     },
     "execution_count": 173,
     "metadata": {},
     "output_type": "execute_result"
    }
   ],
   "source": [
    "list1=[10,2,30,4]\n",
    "list1.reverse()\n",
    "list1"
   ]
  },
  {
   "cell_type": "code",
   "execution_count": 174,
   "id": "139cbce3-afcd-4cf8-b155-ba7e84d38e1d",
   "metadata": {},
   "outputs": [
    {
     "data": {
      "text/plain": [
       "tuple"
      ]
     },
     "execution_count": 174,
     "metadata": {},
     "output_type": "execute_result"
    }
   ],
   "source": [
    "type((1,2,3,4))"
   ]
  },
  {
   "cell_type": "markdown",
   "id": "0971d2c1-41ed-418e-9878-b917a30ed56a",
   "metadata": {},
   "source": [
    "- Basic representations\n",
    "\n",
    "- type\n",
    "\n",
    "- len\n",
    "\n",
    "- min\n",
    "\n",
    "- max\n",
    "\n",
    "- sum\n",
    "\n",
    "- sorted\n",
    "\n",
    "- reversed\n",
    "\n",
    "- in\n",
    "\n",
    "- range\n",
    "\n",
    "- concatenation\n",
    "\n",
    "- index\n",
    "\n",
    "- slice\n",
    "\n",
    "- mutable vs immutable"
   ]
  },
  {
   "cell_type": "code",
   "execution_count": 175,
   "id": "c85c240f-e66c-41fc-999c-8ed931e3a466",
   "metadata": {},
   "outputs": [
    {
     "data": {
      "text/plain": [
       "['__add__',\n",
       " '__class__',\n",
       " '__class_getitem__',\n",
       " '__contains__',\n",
       " '__delattr__',\n",
       " '__dir__',\n",
       " '__doc__',\n",
       " '__eq__',\n",
       " '__format__',\n",
       " '__ge__',\n",
       " '__getattribute__',\n",
       " '__getitem__',\n",
       " '__getnewargs__',\n",
       " '__getstate__',\n",
       " '__gt__',\n",
       " '__hash__',\n",
       " '__init__',\n",
       " '__init_subclass__',\n",
       " '__iter__',\n",
       " '__le__',\n",
       " '__len__',\n",
       " '__lt__',\n",
       " '__mul__',\n",
       " '__ne__',\n",
       " '__new__',\n",
       " '__reduce__',\n",
       " '__reduce_ex__',\n",
       " '__repr__',\n",
       " '__rmul__',\n",
       " '__setattr__',\n",
       " '__sizeof__',\n",
       " '__str__',\n",
       " '__subclasshook__',\n",
       " 'count',\n",
       " 'index']"
      ]
     },
     "execution_count": 175,
     "metadata": {},
     "output_type": "execute_result"
    }
   ],
   "source": [
    "dir(())"
   ]
  },
  {
   "cell_type": "markdown",
   "id": "88c708dc-58aa-4db4-892e-13ba1bf0bcc2",
   "metadata": {},
   "source": [
    "- tuples\n",
    "\n",
    "- sets"
   ]
  },
  {
   "cell_type": "code",
   "execution_count": null,
   "id": "1784b270-f4e3-413f-8d7e-69843b7351dd",
   "metadata": {},
   "outputs": [],
   "source": [
    "######### Next week #############\n",
    "dictionary we will discuss in the class\n",
    "\n",
    "list comprehension\n",
    "\n",
    "lambda functions\n",
    "\n",
    "file handling\n",
    "\n",
    "####### Data analysis ############\n",
    "Pnadas numpy matplotlib seaborn\n",
    "\n",
    "######### Python OOPS ##########\n"
   ]
  }
 ],
 "metadata": {
  "kernelspec": {
   "display_name": "Python 3 (ipykernel)",
   "language": "python",
   "name": "python3"
  },
  "language_info": {
   "codemirror_mode": {
    "name": "ipython",
    "version": 3
   },
   "file_extension": ".py",
   "mimetype": "text/x-python",
   "name": "python",
   "nbconvert_exporter": "python",
   "pygments_lexer": "ipython3",
   "version": "3.11.7"
  }
 },
 "nbformat": 4,
 "nbformat_minor": 5
}
