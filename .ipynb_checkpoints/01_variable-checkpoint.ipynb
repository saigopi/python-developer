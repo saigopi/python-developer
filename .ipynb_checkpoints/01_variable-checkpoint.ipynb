{
 "cells": [
  {
   "cell_type": "code",
   "execution_count": 2,
   "id": "a609570e-e34e-4890-98ca-95464d644089",
   "metadata": {},
   "outputs": [],
   "source": [
    "_Test=1"
   ]
  },
  {
   "cell_type": "code",
   "execution_count": 4,
   "id": "a2611793-f385-4dcd-a4cc-054ce15be8b7",
   "metadata": {
    "panel-layout": {
     "height": 27.140625,
     "visible": true,
     "width": 100
    }
   },
   "outputs": [
    {
     "data": {
      "text/plain": [
       "1"
      ]
     },
     "execution_count": 4,
     "metadata": {},
     "output_type": "execute_result"
    }
   ],
   "source": [
    "_Test"
   ]
  },
  {
   "cell_type": "code",
   "execution_count": null,
   "id": "4c2e16fa-28ff-453f-8178-f3dfcbd4df20",
   "metadata": {},
   "outputs": [],
   "source": []
  }
 ],
 "metadata": {
  "kernelspec": {
   "display_name": "Python 3 (ipykernel)",
   "language": "python",
   "name": "python3"
  },
  "language_info": {
   "codemirror_mode": {
    "name": "ipython",
    "version": 3
   },
   "file_extension": ".py",
   "mimetype": "text/x-python",
   "name": "python",
   "nbconvert_exporter": "python",
   "pygments_lexer": "ipython3",
   "version": "3.12.4"
  },
  "panel-cell-order": [
   "a2611793-f385-4dcd-a4cc-054ce15be8b7"
  ]
 },
 "nbformat": 4,
 "nbformat_minor": 5
}
