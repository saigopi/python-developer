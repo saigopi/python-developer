{
 "cells": [
  {
   "cell_type": "markdown",
   "id": "8334cb9d-caeb-408c-9267-7d86826c8060",
   "metadata": {},
   "source": [
    "Type Cast"
   ]
  },
  {
   "cell_type": "code",
   "execution_count": 11,
   "id": "ea5f6f8b-b43f-4a47-b0a3-efa832bf87b6",
   "metadata": {},
   "outputs": [
    {
     "data": {
      "text/plain": [
       "100.0"
      ]
     },
     "execution_count": 11,
     "metadata": {},
     "output_type": "execute_result"
    }
   ],
   "source": [
    "#Int to float\n",
    "#int to str\n",
    "#int to bool\n",
    "num=100\n",
    "float(num)"
   ]
  },
  {
   "cell_type": "code",
   "execution_count": 13,
   "id": "d38493b9-4510-4984-9f04-3a047a15d420",
   "metadata": {},
   "outputs": [
    {
     "data": {
      "text/plain": [
       "(100.0, '100', True)"
      ]
     },
     "execution_count": 13,
     "metadata": {},
     "output_type": "execute_result"
    }
   ],
   "source": [
    "float(num),str(num),bool(num)"
   ]
  },
  {
   "cell_type": "code",
   "execution_count": 17,
   "id": "f649e7db-cbed-44e7-a6d5-5c59926bfadf",
   "metadata": {},
   "outputs": [
    {
     "data": {
      "text/plain": [
       "(0.0, '0', False)"
      ]
     },
     "execution_count": 17,
     "metadata": {},
     "output_type": "execute_result"
    }
   ],
   "source": [
    "num1=0\n",
    "float(num1),str(num1),bool(num1)"
   ]
  },
  {
   "cell_type": "code",
   "execution_count": 19,
   "id": "98ce93c9-7656-484d-891f-7c16e2633482",
   "metadata": {},
   "outputs": [
    {
     "data": {
      "text/plain": [
       "(-1.0, '-1', True)"
      ]
     },
     "execution_count": 19,
     "metadata": {},
     "output_type": "execute_result"
    }
   ],
   "source": [
    "num2=-1\n",
    "float(num2),str(num2),bool(num2)"
   ]
  },
  {
   "cell_type": "code",
   "execution_count": 23,
   "id": "1ba8f073-189a-47d5-b7c5-50accf1efcd7",
   "metadata": {},
   "outputs": [
    {
     "data": {
      "text/plain": [
       "(100.5, '100.5', True, 100)"
      ]
     },
     "execution_count": 23,
     "metadata": {},
     "output_type": "execute_result"
    }
   ],
   "source": [
    "num3=100.5\n",
    "float(num3),str(num3),bool(num3),int(num3)"
   ]
  },
  {
   "cell_type": "code",
   "execution_count": 25,
   "id": "ca918d16-b8f7-47ae-8539-b3737317848d",
   "metadata": {},
   "outputs": [
    {
     "data": {
      "text/plain": [
       "False"
      ]
     },
     "execution_count": 25,
     "metadata": {},
     "output_type": "execute_result"
    }
   ],
   "source": [
    "bool(0.0)"
   ]
  },
  {
   "cell_type": "code",
   "execution_count": 27,
   "id": "c3057e28-e877-4db2-ac2d-f3ac0cc9e6f0",
   "metadata": {},
   "outputs": [
    {
     "data": {
      "text/plain": [
       "True"
      ]
     },
     "execution_count": 27,
     "metadata": {},
     "output_type": "execute_result"
    }
   ],
   "source": [
    "bool(0.5)"
   ]
  },
  {
   "cell_type": "code",
   "execution_count": 31,
   "id": "ef02ce0c-3dff-4416-904f-f3397696554f",
   "metadata": {},
   "outputs": [
    {
     "data": {
      "text/plain": [
       "(10.0, 10, True)"
      ]
     },
     "execution_count": 31,
     "metadata": {},
     "output_type": "execute_result"
    }
   ],
   "source": [
    "str_val='10'\n",
    "float(str_val),int(str_val),bool(str_val)"
   ]
  },
  {
   "cell_type": "code",
   "execution_count": 33,
   "id": "96ec5fad-a8cb-4a6e-a7dd-5572e287babd",
   "metadata": {},
   "outputs": [
    {
     "ename": "ValueError",
     "evalue": "invalid literal for int() with base 10: '10.5'",
     "output_type": "error",
     "traceback": [
      "\u001b[1;31m---------------------------------------------------------------------------\u001b[0m",
      "\u001b[1;31mValueError\u001b[0m                                Traceback (most recent call last)",
      "Cell \u001b[1;32mIn[33], line 1\u001b[0m\n\u001b[1;32m----> 1\u001b[0m \u001b[38;5;28mint\u001b[39m(\u001b[38;5;124m'\u001b[39m\u001b[38;5;124m10.5\u001b[39m\u001b[38;5;124m'\u001b[39m),\u001b[38;5;28mfloat\u001b[39m(\u001b[38;5;241m10.5\u001b[39m),book(\u001b[38;5;241m10.5\u001b[39m)\n",
      "\u001b[1;31mValueError\u001b[0m: invalid literal for int() with base 10: '10.5'"
     ]
    }
   ],
   "source": [
    "int('10.5'),float(10.5),book(10.5)\n",
    "#We can not convert string represntation of float num to integer.\n",
    "int(10.5),float(10.5),book(10.5)"
   ]
  },
  {
   "cell_type": "markdown",
   "id": "f0398e7c-b293-4fb5-acfc-128085f9a242",
   "metadata": {},
   "source": [
    "#**eval**\n",
    "- evaluate\n",
    "- It take the string represntation of number\n",
    "- And it converts into interger and float type."
   ]
  },
  {
   "cell_type": "code",
   "execution_count": 41,
   "id": "cbf1e7c2-6b7d-4898-9630-536c0bd1b63c",
   "metadata": {},
   "outputs": [
    {
     "data": {
      "text/plain": [
       "(10.5, 10)"
      ]
     },
     "execution_count": 41,
     "metadata": {},
     "output_type": "execute_result"
    }
   ],
   "source": [
    "eval('10.5'),eval('10')"
   ]
  },
  {
   "cell_type": "code",
   "execution_count": 47,
   "id": "7779157f-ec7f-4301-959f-12e2c016b419",
   "metadata": {},
   "outputs": [
    {
     "data": {
      "text/plain": [
       "10.0"
      ]
     },
     "execution_count": 47,
     "metadata": {},
     "output_type": "execute_result"
    }
   ],
   "source": [
    "n1=eval('10')\n",
    "n1\n",
    "float(n1)"
   ]
  },
  {
   "cell_type": "code",
   "execution_count": 49,
   "id": "ba087c53-14af-4186-aecf-738f745ea192",
   "metadata": {},
   "outputs": [
    {
     "data": {
      "text/plain": [
       "10"
      ]
     },
     "execution_count": 49,
     "metadata": {},
     "output_type": "execute_result"
    }
   ],
   "source": [
    "n1=eval('10')\n",
    "n1\n",
    "int(n1)"
   ]
  },
  {
   "cell_type": "code",
   "execution_count": 51,
   "id": "c942cfb8-1270-4d2b-aae3-5ca0626917c4",
   "metadata": {},
   "outputs": [
    {
     "data": {
      "text/plain": [
       "'10'"
      ]
     },
     "execution_count": 51,
     "metadata": {},
     "output_type": "execute_result"
    }
   ],
   "source": [
    "n1=eval('10')\n",
    "n1\n",
    "str(n1)"
   ]
  },
  {
   "cell_type": "code",
   "execution_count": 53,
   "id": "bdfedc85-0102-48de-a536-31ac8fdb8e7c",
   "metadata": {},
   "outputs": [
    {
     "data": {
      "text/plain": [
       "True"
      ]
     },
     "execution_count": 53,
     "metadata": {},
     "output_type": "execute_result"
    }
   ],
   "source": [
    "n1=eval('10')\n",
    "n1\n",
    "bool(n1)"
   ]
  },
  {
   "cell_type": "code",
   "execution_count": 73,
   "id": "282ccadc-f203-4025-9316-263d12f59c0f",
   "metadata": {},
   "outputs": [
    {
     "data": {
      "text/plain": [
       "(True, True, True, True, False, False)"
      ]
     },
     "execution_count": 73,
     "metadata": {},
     "output_type": "execute_result"
    }
   ],
   "source": [
    "#int('apple') this will through error\n",
    "#float('apple') this will through error\n",
    "bool(''),  \n",
    "bool(' '),bool('10'),bool('apple'),bool(10),bool( ),bool( )"
   ]
  },
  {
   "cell_type": "code",
   "execution_count": 75,
   "id": "836721a1-de23-4656-9d69-5e92a0549768",
   "metadata": {},
   "outputs": [
    {
     "data": {
      "text/plain": [
       "(0, 1, 3)"
      ]
     },
     "execution_count": 75,
     "metadata": {},
     "output_type": "execute_result"
    }
   ],
   "source": [
    "len(''), len(' '),len('   ')"
   ]
  },
  {
   "cell_type": "code",
   "execution_count": 77,
   "id": "d5a7c0e0-e4b2-42ea-a190-63948e5a74f4",
   "metadata": {},
   "outputs": [],
   "source": [
    "#Use the input function"
   ]
  },
  {
   "cell_type": "code",
   "execution_count": 79,
   "id": "45e69a5c-d7d2-4cd0-93f8-344b2a7fd663",
   "metadata": {},
   "outputs": [
    {
     "data": {
      "text/plain": [
       "<bound method Kernel.raw_input of <ipykernel.ipkernel.IPythonKernel object at 0x000001B2E2F25130>>"
      ]
     },
     "execution_count": 79,
     "metadata": {},
     "output_type": "execute_result"
    }
   ],
   "source": [
    "input"
   ]
  },
  {
   "cell_type": "code",
   "execution_count": 81,
   "id": "2956e36c-cc43-443a-b859-9dc31853feca",
   "metadata": {},
   "outputs": [
    {
     "data": {
      "text/plain": [
       "<function print(*args, sep=' ', end='\\n', file=None, flush=False)>"
      ]
     },
     "execution_count": 81,
     "metadata": {},
     "output_type": "execute_result"
    }
   ],
   "source": [
    "print"
   ]
  },
  {
   "cell_type": "code",
   "execution_count": 87,
   "id": "93d534b8-9c6f-497e-9add-abc6fde629a3",
   "metadata": {},
   "outputs": [
    {
     "data": {
      "text/plain": [
       "<function len(obj, /)>"
      ]
     },
     "execution_count": 87,
     "metadata": {},
     "output_type": "execute_result"
    }
   ],
   "source": [
    "len"
   ]
  },
  {
   "cell_type": "code",
   "execution_count": 89,
   "id": "36e802be-476a-40fa-b886-2d840a83d6b0",
   "metadata": {},
   "outputs": [
    {
     "name": "stdin",
     "output_type": "stream",
     "text": [
      "Enter your name: gopi\n"
     ]
    }
   ],
   "source": [
    "name=input(\"Enter your name:\")"
   ]
  },
  {
   "cell_type": "code",
   "execution_count": 99,
   "id": "1cab4949-800a-488e-9cb6-1ffea59e7c63",
   "metadata": {},
   "outputs": [
    {
     "name": "stdin",
     "output_type": "stream",
     "text": [
      "Enter your name: g\n",
      "Enter your age: g\n",
      "Enter your country: g\n"
     ]
    },
    {
     "name": "stdout",
     "output_type": "stream",
     "text": [
      "my name is g, I am g, year old, comming from g\n"
     ]
    }
   ],
   "source": [
    "name=input(\"Enter your name:\")\n",
    "age=input(\"Enter your age:\")\n",
    "country=input(\"Enter your country:\")\n",
    "print(f\"my name is {name}, I am {age}, year old, comming from {country}\")"
   ]
  },
  {
   "cell_type": "code",
   "execution_count": 113,
   "id": "514aa9aa-0496-45e2-b72f-f8f6b9c8e2b0",
   "metadata": {},
   "outputs": [
    {
     "ename": "SyntaxError",
     "evalue": "incomplete input (1087512671.py, line 4)",
     "output_type": "error",
     "traceback": [
      "\u001b[1;36m  Cell \u001b[1;32mIn[113], line 4\u001b[1;36m\u001b[0m\n\u001b[1;33m    print('my name is {}, I am {}, year old, comming from {}'.format(name,age,country)\u001b[0m\n\u001b[1;37m                                                                                      ^\u001b[0m\n\u001b[1;31mSyntaxError\u001b[0m\u001b[1;31m:\u001b[0m incomplete input\n"
     ]
    }
   ],
   "source": [
    "name=input(\"Enter your name:\")\n",
    "age=input(\"Enter your age:\")\n",
    "country=input(\"Enter your country:\")\n",
    "#print('my name is {}, I am {}, year old, comming from {}'.format(name,age,country)"
   ]
  },
  {
   "cell_type": "code",
   "execution_count": 115,
   "id": "8bfd4b4e-1203-47b8-8a9e-3b6262bc8dd9",
   "metadata": {},
   "outputs": [
    {
     "name": "stdin",
     "output_type": "stream",
     "text": [
      "enter num1: 100\n",
      "enter num2: 10\n"
     ]
    },
    {
     "data": {
      "text/plain": [
       "'10010'"
      ]
     },
     "execution_count": 115,
     "metadata": {},
     "output_type": "execute_result"
    }
   ],
   "source": [
    "num1=input(\"enter num1:\") # num1='100'\n",
    "num2=input(\"enter num2:\") # num2='200'\n",
    "num1+num2 # '100'+'200'='100200'"
   ]
  },
  {
   "cell_type": "code",
   "execution_count": 123,
   "id": "fa949813-c733-4c30-b556-81e526e10d61",
   "metadata": {},
   "outputs": [
    {
     "name": "stdin",
     "output_type": "stream",
     "text": [
      "enter num1: 3\n",
      "enter num2: 3\n"
     ]
    },
    {
     "data": {
      "text/plain": [
       "6"
      ]
     },
     "execution_count": 123,
     "metadata": {},
     "output_type": "execute_result"
    }
   ],
   "source": [
    "num1=input(\"enter num1:\") # num1='100'\n",
    "num2=input(\"enter num2:\") # num2='200'\n",
    "eval(num1)+eval(num2) # '100'+'200'='100200'"
   ]
  },
  {
   "cell_type": "code",
   "execution_count": 129,
   "id": "d80dfdc5-6387-4700-998e-30faf35597fb",
   "metadata": {},
   "outputs": [
    {
     "name": "stdin",
     "output_type": "stream",
     "text": [
      "enter num1: 3\n",
      "enter num2: 3\n"
     ]
    },
    {
     "data": {
      "text/plain": [
       "6"
      ]
     },
     "execution_count": 129,
     "metadata": {},
     "output_type": "execute_result"
    }
   ],
   "source": [
    "num1=eval(input(\"enter num1:\")) # num1='100'\n",
    "num2=eval(input(\"enter num2:\")) # num2='200'\n",
    "num1+num2# '100'+'200'='100200'"
   ]
  },
  {
   "cell_type": "markdown",
   "id": "289a479b-b3d9-4a2d-a199-93d9cf9b2b96",
   "metadata": {},
   "source": [
    "# WAP ASK the user enter three numbers using input\n",
    "# n1=input(\"en\")\n",
    "# n2 = similar\n",
    "# n3= similar\n",
    "# calculate the average \n",
    "# the avg of n1 ,n2 and n3 is ans\n",
    " \n",
    "# WAP ask the user enter breadth and height calculate Right angle area of trainagle\n",
    "# formulae= 1/2*b*h\n",
    " \n",
    "# WAP ask the user enter a radius , calculate area of circle\n",
    "# pi=3.14\n",
    "# area= pi*r*r\n",
    " \n",
    "# WAP ask the user enter \n",
    "# a bill amount\n",
    "# tax on bill amount\n",
    "# calculate total bill"
   ]
  },
  {
   "cell_type": "code",
   "execution_count": 132,
   "id": "5455b697-103c-410f-8af8-f5365bf3dec9",
   "metadata": {},
   "outputs": [
    {
     "name": "stdin",
     "output_type": "stream",
     "text": [
      "enter first number 3\n"
     ]
    }
   ],
   "source": [
    "n1=eval(input(\"enter first number\"))"
   ]
  },
  {
   "cell_type": "code",
   "execution_count": 148,
   "id": "09f1d0fb-ce0d-485e-a9b8-be10b717d476",
   "metadata": {},
   "outputs": [
    {
     "name": "stdin",
     "output_type": "stream",
     "text": [
      "enter first number 3\n",
      "enter Second number 3\n",
      "enter Third number 3\n"
     ]
    },
    {
     "name": "stdout",
     "output_type": "stream",
     "text": [
      "The average of n1 and n2 and n3 is 3.0\n"
     ]
    }
   ],
   "source": [
    "n1=eval(input(\"enter first number\"))\n",
    "n2=eval(input(\"enter Second number\"))\n",
    "n3=eval(input(\"enter Third number\"))\n",
    "add=(n1+n2+n3)\n",
    "avg=add/3\n",
    "print(f\"The average of n1 and n2 and n3 is {avg}\")"
   ]
  },
  {
   "cell_type": "code",
   "execution_count": 150,
   "id": "cc831517-bb0e-4053-a983-eb924eb14671",
   "metadata": {},
   "outputs": [
    {
     "name": "stdin",
     "output_type": "stream",
     "text": [
      "enter number1: 33\n",
      "enter number2: 33\n",
      "enter number3: 5\n"
     ]
    },
    {
     "name": "stdout",
     "output_type": "stream",
     "text": [
      "the average of 33,33 and 5 is :23.67\n"
     ]
    }
   ],
   "source": [
    "n1=eval(input(\"enter number1:\"))\n",
    "n2=eval(input(\"enter number2:\"))\n",
    "n3=eval(input(\"enter number3:\"))\n",
    "add=n1+n2+n3\n",
    "avg=round(add/3,2)  \n",
    "print(f\"the average of {n1},{n2} and {n3} is :{avg}\")\n"
   ]
  },
  {
   "cell_type": "code",
   "execution_count": 152,
   "id": "85a5cb68-aaa9-4c0c-92e5-1016cd748678",
   "metadata": {},
   "outputs": [
    {
     "name": "stdin",
     "output_type": "stream",
     "text": [
      "enter the radius 33\n"
     ]
    },
    {
     "name": "stdout",
     "output_type": "stream",
     "text": [
      "the area of cicle is 3419.46\n"
     ]
    }
   ],
   "source": [
    "# WAP ask the user enter a radius , calculate area of circle\n",
    "# pi=3.14\n",
    "# area= pi*r*r\n",
    "r=eval(input(\"enter the radius\"))\n",
    "pi=3.14\n",
    "area=pi*r*r\n",
    "print(f\"the area of cicle is {area}\")"
   ]
  },
  {
   "cell_type": "code",
   "execution_count": 154,
   "id": "cd1ca297-d086-4e53-9dbe-8a3f9c6c8ff9",
   "metadata": {},
   "outputs": [
    {
     "data": {
      "text/plain": [
       "100"
      ]
     },
     "execution_count": 154,
     "metadata": {},
     "output_type": "execute_result"
    }
   ],
   "source": [
    "2*2,   # Direct multiplication\n",
    "2**2,  # 2 power 2\n",
    "2**3   # 2 power 3\n",
    "10**2  # 10 power 2"
   ]
  },
  {
   "cell_type": "code",
   "execution_count": 156,
   "id": "f2d0aae5-a28a-438e-b4d9-c2d09312b82d",
   "metadata": {},
   "outputs": [
    {
     "name": "stdin",
     "output_type": "stream",
     "text": [
      "enter the radius: 33\n"
     ]
    },
    {
     "name": "stdout",
     "output_type": "stream",
     "text": [
      "The area of circle is: 3419.46\n"
     ]
    }
   ],
   "source": [
    "r=eval(input(\"enter the radius:\"))\n",
    "\n",
    "pi=3.14\n",
    "\n",
    "area=pi*r**2   # area=pi*r*r\n",
    "\n",
    "print(f\"The area of circle is: {area}\")\n",
    " "
   ]
  },
  {
   "cell_type": "code",
   "execution_count": null,
   "id": "320e993d-d7f7-4156-aafc-3169d005af18",
   "metadata": {},
   "outputs": [],
   "source": []
  }
 ],
 "metadata": {
  "kernelspec": {
   "display_name": "Python 3 (ipykernel)",
   "language": "python",
   "name": "python3"
  },
  "language_info": {
   "codemirror_mode": {
    "name": "ipython",
    "version": 3
   },
   "file_extension": ".py",
   "mimetype": "text/x-python",
   "name": "python",
   "nbconvert_exporter": "python",
   "pygments_lexer": "ipython3",
   "version": "3.12.4"
  }
 },
 "nbformat": 4,
 "nbformat_minor": 5
}
