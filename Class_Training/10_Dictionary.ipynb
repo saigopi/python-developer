{
 "cells": [
  {
   "cell_type": "markdown",
   "id": "df98d078-e055-4745-83e5-0b76b33caa9d",
   "metadata": {},
   "source": [
    "- Strings\n",
    "- Lists\n",
    "- Dictionary\n",
    "- Tuple and Set"
   ]
  },
  {
   "cell_type": "code",
   "execution_count": 8,
   "id": "1f8dc6d0-190b-4f39-bee6-4db6ef219dc4",
   "metadata": {},
   "outputs": [
    {
     "name": "stdout",
     "output_type": "stream",
     "text": [
      "Ramesh age is 20\n",
      "Suresh age is 21\n",
      "Mahesh age is 22\n"
     ]
    }
   ],
   "source": [
    "#befor dictionary some examples0\n",
    "Names=['Ramesh','Suresh','Mahesh']\n",
    "age=[20,21,22]\n",
    "#I want to print Ramesh Age is 21\n",
    "for i in range(len(Names)):\n",
    "    print(f\"{Names[i]} age is {age[i]}\")"
   ]
  },
  {
   "cell_type": "code",
   "execution_count": 14,
   "id": "1307d089-fe42-45e6-b8e7-c75eb014138e",
   "metadata": {},
   "outputs": [
    {
     "name": "stdout",
     "output_type": "stream",
     "text": [
      "Name Ramesh Age is 20, City from hyd\n",
      "Name Suresh Age is 21, City from blr\n",
      "Name Mahesh Age is 22, City from pune\n"
     ]
    }
   ],
   "source": [
    "#befor dictionary some examples1\n",
    "Names=['Ramesh','Suresh','Mahesh']\n",
    "age=[20,21,22]\n",
    "city=['hyd','blr','pune']\n",
    "#I want to print Ramesh Age is 21\n",
    "for i,j,k in zip(Names,age,city):\n",
    "    print(f\"Name {i} Age is {j}, City from {k}\")"
   ]
  },
  {
   "cell_type": "markdown",
   "id": "4138809c-805a-42af-bbc9-643c312cd6d2",
   "metadata": {},
   "source": [
    "# Dictionary will give some relation between two values\n",
    "## it is called a key : value pair\n",
    "### {key:value}\n",
    "### latest value will consider\n",
    "### keys are important\n",
    "### Values can be duplicate but keys can not be duplicate\n",
    "- **Keys are very very important**\n",
    " \n",
    "- keys can not be duplicate\n",
    " \n",
    "- if keys are duplicate it will consider the latest value\n",
    " \n",
    "- Values can be duplicates\n",
    " \n",
    "- Values can be any data type\n",
    " \n",
    "- But keys can not be list type\n",
    " \n",
    "    - list is mutable\n",
    " \n",
    "- Keys can be represmt as tuple\n",
    " \n",
    "    - because tuple is immutable in nature"
   ]
  },
  {
   "cell_type": "code",
   "execution_count": 28,
   "id": "80611057-62c5-4959-8b70-8fd5ec8ef925",
   "metadata": {},
   "outputs": [
    {
     "data": {
      "text/plain": [
       "{'Ramesh': 20, 'Suresh': 21, 'Mahesh': 22}"
      ]
     },
     "execution_count": 28,
     "metadata": {},
     "output_type": "execute_result"
    }
   ],
   "source": [
    "d1={'Ramesh':20,'Suresh':21,'Mahesh':22}\n",
    "d1"
   ]
  },
  {
   "cell_type": "code",
   "execution_count": 32,
   "id": "de4b130b-19a8-49f7-9a3c-ba94c5e533ba",
   "metadata": {},
   "outputs": [
    {
     "data": {
      "text/plain": [
       "{'Ramesh': True, 'Suresh': True, 'Mahesh': True, '': True}"
      ]
     },
     "execution_count": 32,
     "metadata": {},
     "output_type": "execute_result"
    }
   ],
   "source": [
    "d2={'Ramesh':True,'Suresh':True,'Mahesh':True,'':True}\n",
    "d2"
   ]
  },
  {
   "cell_type": "code",
   "execution_count": 38,
   "id": "00a10326-27f3-48fb-b345-270e7982dfa7",
   "metadata": {},
   "outputs": [
    {
     "data": {
      "text/plain": [
       "{'Ramesh': 'Hi', 'Suresh': 'Bye', 'Mahesh': 'Mai', '': 'toy'}"
      ]
     },
     "execution_count": 38,
     "metadata": {},
     "output_type": "execute_result"
    }
   ],
   "source": [
    "d3={'Ramesh':'Hi','Suresh':'Bye','Mahesh':'Mai','':'toy'}\n",
    "d3"
   ]
  },
  {
   "cell_type": "code",
   "execution_count": 42,
   "id": "0b33522f-519a-4133-8f95-2e850d8f50b8",
   "metadata": {},
   "outputs": [
    {
     "data": {
      "text/plain": [
       "{'Ramesh': '0,1', 'Suresh': 'Bye', 'Mahesh': 'Mai', '': 'toy'}"
      ]
     },
     "execution_count": 42,
     "metadata": {},
     "output_type": "execute_result"
    }
   ],
   "source": [
    "d4={'Ramesh':'0,1','Suresh':'Bye','Mahesh':'Mai','':'toy'}\n",
    "d4"
   ]
  },
  {
   "cell_type": "code",
   "execution_count": 46,
   "id": "246efad9-aa12-4586-bdd5-e1cb5a9001a9",
   "metadata": {},
   "outputs": [
    {
     "data": {
      "text/plain": [
       "{'Ramesh': 'Bye', 'Mahesh': 'Mai', '': 'toy'}"
      ]
     },
     "execution_count": 46,
     "metadata": {},
     "output_type": "execute_result"
    }
   ],
   "source": [
    "#DUP KEY\n",
    "d4={'Ramesh':'0,1','Ramesh':'Bye','Mahesh':'Mai','':'toy'}\n",
    "d4"
   ]
  },
  {
   "cell_type": "code",
   "execution_count": 50,
   "id": "46bed3ec-c4f3-49df-b138-6902870c6d4d",
   "metadata": {},
   "outputs": [
    {
     "data": {
      "text/plain": [
       "{'Fruites': ['Apple', 'Banana']}"
      ]
     },
     "execution_count": 50,
     "metadata": {},
     "output_type": "execute_result"
    }
   ],
   "source": [
    "d5={'Fruites':['Apple','Banana']}\n",
    "d5"
   ]
  },
  {
   "cell_type": "code",
   "execution_count": 54,
   "id": "a890810c-08aa-44a5-9673-b945289846b9",
   "metadata": {},
   "outputs": [
    {
     "ename": "TypeError",
     "evalue": "unhashable type: 'list'",
     "output_type": "error",
     "traceback": [
      "\u001b[1;31m---------------------------------------------------------------------------\u001b[0m",
      "\u001b[1;31mTypeError\u001b[0m                                 Traceback (most recent call last)",
      "Cell \u001b[1;32mIn[54], line 3\u001b[0m\n\u001b[0;32m      1\u001b[0m \u001b[38;5;66;03m#not possible reverse\u001b[39;00m\n\u001b[0;32m      2\u001b[0m \u001b[38;5;66;03m#d5={['Key1','Key2']:'value':}\u001b[39;00m\n\u001b[1;32m----> 3\u001b[0m d5\u001b[38;5;241m=\u001b[39m{[\u001b[38;5;124m'\u001b[39m\u001b[38;5;124mApple\u001b[39m\u001b[38;5;124m'\u001b[39m,\u001b[38;5;124m'\u001b[39m\u001b[38;5;124mBanana\u001b[39m\u001b[38;5;124m'\u001b[39m]:\u001b[38;5;124m'\u001b[39m\u001b[38;5;124mFruites\u001b[39m\u001b[38;5;124m'\u001b[39m}\n",
      "\u001b[1;31mTypeError\u001b[0m: unhashable type: 'list'"
     ]
    }
   ],
   "source": [
    "#not possible reverse\n",
    "#d5={['Key1','Key2']:'value':}\n",
    "d5={['Apple','Banana']:'Fruites'}"
   ]
  },
  {
   "cell_type": "code",
   "execution_count": 57,
   "id": "17a59f85-c266-4d2a-92d6-d0ddc6bad4c6",
   "metadata": {},
   "outputs": [
    {
     "data": {
      "text/plain": [
       "3"
      ]
     },
     "execution_count": 57,
     "metadata": {},
     "output_type": "execute_result"
    }
   ],
   "source": [
    "len(d1)"
   ]
  },
  {
   "cell_type": "code",
   "execution_count": 59,
   "id": "a8c72eae-3d57-4110-a99a-aa3b1c64215a",
   "metadata": {},
   "outputs": [
    {
     "data": {
      "text/plain": [
       "'Suresh'"
      ]
     },
     "execution_count": 59,
     "metadata": {},
     "output_type": "execute_result"
    }
   ],
   "source": [
    "max(d2)"
   ]
  },
  {
   "cell_type": "code",
   "execution_count": 61,
   "id": "ddb50978-2130-4630-a05d-00f2d57eeb64",
   "metadata": {},
   "outputs": [
    {
     "data": {
      "text/plain": [
       "''"
      ]
     },
     "execution_count": 61,
     "metadata": {},
     "output_type": "execute_result"
    }
   ],
   "source": [
    "min(d2)"
   ]
  },
  {
   "cell_type": "code",
   "execution_count": 63,
   "id": "02d91b9d-67a7-4284-b41b-ed1e8ab62d91",
   "metadata": {},
   "outputs": [
    {
     "data": {
      "text/plain": [
       "['', 'Mahesh', 'Ramesh', 'Suresh']"
      ]
     },
     "execution_count": 63,
     "metadata": {},
     "output_type": "execute_result"
    }
   ],
   "source": [
    "sorted(d2)"
   ]
  },
  {
   "cell_type": "code",
   "execution_count": 67,
   "id": "ef2e60a2-8094-4d75-ab1f-350643c9ae05",
   "metadata": {},
   "outputs": [
    {
     "data": {
      "text/plain": [
       "['', 'Mahesh', 'Suresh', 'Ramesh']"
      ]
     },
     "execution_count": 67,
     "metadata": {},
     "output_type": "execute_result"
    }
   ],
   "source": [
    "list(reversed(d2))"
   ]
  },
  {
   "cell_type": "code",
   "execution_count": 77,
   "id": "32d3e6bd-6932-4412-b6ec-10fac3698156",
   "metadata": {},
   "outputs": [
    {
     "ename": "TypeError",
     "evalue": "'<' not supported between instances of 'int' and 'str'",
     "output_type": "error",
     "traceback": [
      "\u001b[1;31m---------------------------------------------------------------------------\u001b[0m",
      "\u001b[1;31mTypeError\u001b[0m                                 Traceback (most recent call last)",
      "Cell \u001b[1;32mIn[77], line 4\u001b[0m\n\u001b[0;32m      1\u001b[0m \u001b[38;5;66;03m#Sorted will give error if the values are in different type\u001b[39;00m\n\u001b[0;32m      2\u001b[0m \u001b[38;5;66;03m#example\u001b[39;00m\n\u001b[0;32m      3\u001b[0m err_dict\u001b[38;5;241m=\u001b[39m{\u001b[38;5;124m\"\u001b[39m\u001b[38;5;124mName\u001b[39m\u001b[38;5;124m\"\u001b[39m:\u001b[38;5;241m21\u001b[39m,\u001b[38;5;241m1\u001b[39m:\u001b[38;5;124m\"\u001b[39m\u001b[38;5;124mrank\u001b[39m\u001b[38;5;124m\"\u001b[39m}\n\u001b[1;32m----> 4\u001b[0m \u001b[38;5;28msorted\u001b[39m(err_dict)\n",
      "\u001b[1;31mTypeError\u001b[0m: '<' not supported between instances of 'int' and 'str'"
     ]
    }
   ],
   "source": [
    "#Sorted will give error if the values are in different type\n",
    "#example\n",
    "#TypeError: '<' not supported between instances of 'int' and 'str'\n",
    "err_dict={\"Name\":21,1:\"rank\"}\n",
    "sorted(err_dict)"
   ]
  },
  {
   "cell_type": "code",
   "execution_count": 81,
   "id": "a23c02b6-12f2-496f-959b-bf0058d09c77",
   "metadata": {},
   "outputs": [
    {
     "name": "stdout",
     "output_type": "stream",
     "text": [
      "Ramesh\n",
      "Suresh\n",
      "Mahesh\n"
     ]
    }
   ],
   "source": [
    "#example only keys will be printed\n",
    "for i in d1:\n",
    "    print(i)"
   ]
  },
  {
   "cell_type": "code",
   "execution_count": 85,
   "id": "196b0d21-8373-4f70-805a-aaf5a2c0c86b",
   "metadata": {},
   "outputs": [
    {
     "data": {
      "text/plain": [
       "20"
      ]
     },
     "execution_count": 85,
     "metadata": {},
     "output_type": "execute_result"
    }
   ],
   "source": [
    "## how to access the value using the keys\n",
    "d1[\"Ramesh\"]"
   ]
  },
  {
   "cell_type": "code",
   "execution_count": 93,
   "id": "bd1a5214-c14c-4644-aaf5-3c7758aa7e59",
   "metadata": {},
   "outputs": [],
   "source": [
    "d4={'Ramesh':'0,1','Ramesh':'Bye','Mahesh':'Mai','dai':'toy'}"
   ]
  },
  {
   "cell_type": "code",
   "execution_count": 97,
   "id": "ece4dc40-fdfc-4b92-96df-eccc23257371",
   "metadata": {},
   "outputs": [
    {
     "name": "stdout",
     "output_type": "stream",
     "text": [
      "Ramesh Bye\n",
      "Mahesh Mai\n",
      "dai toy\n"
     ]
    }
   ],
   "source": [
    "for key in d4:\n",
    "    value=d4[key]\n",
    "    print(key,value)"
   ]
  },
  {
   "cell_type": "code",
   "execution_count": 103,
   "id": "31a31fab-3cf3-49f0-aa94-d735b5d099b0",
   "metadata": {},
   "outputs": [
    {
     "name": "stdout",
     "output_type": "stream",
     "text": [
      "Name Ramesh Age is 20, City from hyd\n",
      "Name Suresh Age is 21, City from blr\n",
      "Name Mahesh Age is 22, City from pune\n",
      "Ramesh age is 20\n",
      "Suresh age is 21\n",
      "Mahesh age is 22\n",
      "Ramesh Bye\n",
      "Mahesh Mai\n",
      "dai toy\n"
     ]
    }
   ],
   "source": [
    "#befor dictionary some examples1\n",
    "Names=['Ramesh','Suresh','Mahesh']\n",
    "age=[20,21,22]\n",
    "city=['hyd','blr','pune']\n",
    "#I want to print Ramesh Age is 21\n",
    "for i,j,k in zip(Names,age,city):\n",
    "    print(f\"Name {i} Age is {j}, City from {k}\")\n",
    "#befor dictionary some examples0\n",
    "Names=['Ramesh','Suresh','Mahesh']\n",
    "age=[20,21,22]\n",
    "#I want to print Ramesh Age is 21\n",
    "for i in range(len(Names)):\n",
    "    print(f\"{Names[i]} age is {age[i]}\")\n",
    "###############################################################\n",
    "d4={'Ramesh':'0,1','Ramesh':'Bye','Mahesh':'Mai','dai':'toy'}\n",
    "for key in d4:\n",
    "    value=d4[key]\n",
    "    print(key,value)\n"
   ]
  },
  {
   "cell_type": "code",
   "execution_count": 119,
   "id": "ecc4844b-b496-4406-b747-de304c7c0b6e",
   "metadata": {},
   "outputs": [
    {
     "name": "stdout",
     "output_type": "stream",
     "text": [
      "Ramesh Sai\n",
      "Mahesh Mai\n",
      "dai toy\n"
     ]
    }
   ],
   "source": [
    "d4={'Ramesh':'0,1','Ramesh':'Bye','Mahesh':'Mai','dai':'toy'}\n",
    "d4['Ramesh']=\"Sai\"\n",
    "for key in d4:\n",
    "    value=d4[key]\n",
    "    print(key,value)"
   ]
  },
  {
   "cell_type": "code",
   "execution_count": 123,
   "id": "9b32244b-f80a-42fd-b66b-f5d0a1200ff4",
   "metadata": {},
   "outputs": [],
   "source": [
    "s='' #empty srting\n",
    "l=[] #empty list\n",
    "d={} #empty dict"
   ]
  },
  {
   "cell_type": "code",
   "execution_count": 131,
   "id": "b45b171c-e445-45c6-89be-a41a9be9fc26",
   "metadata": {},
   "outputs": [
    {
     "data": {
      "text/plain": [
       "{'Ramesh': 20, 'Suresh': 21, 'Mahesh': 22}"
      ]
     },
     "execution_count": 131,
     "metadata": {},
     "output_type": "execute_result"
    }
   ],
   "source": [
    "## how to create a Dictionary using List\n",
    "Names=['Ramesh','Suresh','Mahesh']\n",
    "age=[20,21,22]\n",
    "d={}\n",
    "for keys,values in zip(Names,age):\n",
    "    d[keys]=values\n",
    "d"
   ]
  },
  {
   "cell_type": "code",
   "execution_count": 141,
   "id": "2da302ea-ac50-4012-808c-72ac03d01bc0",
   "metadata": {},
   "outputs": [
    {
     "data": {
      "text/plain": [
       "['Apple', 'Banana']"
      ]
     },
     "execution_count": 141,
     "metadata": {},
     "output_type": "execute_result"
    }
   ],
   "source": [
    "## Access the Dirctionary\n",
    "d5={'Fruites':['Apple','Banana']}\n",
    "d5['Fruites']"
   ]
  },
  {
   "cell_type": "code",
   "execution_count": 143,
   "id": "f58db732-6af1-40c1-b802-b7fe38118a33",
   "metadata": {},
   "outputs": [
    {
     "data": {
      "text/plain": [
       "'kashmir'"
      ]
     },
     "execution_count": 143,
     "metadata": {},
     "output_type": "execute_result"
    }
   ],
   "source": [
    "d5={'Fruites':{'Apple':'kashmir'}}\n",
    "d5['Fruites']['Apple']"
   ]
  },
  {
   "cell_type": "code",
   "execution_count": 153,
   "id": "f2aa27be-4d4b-4f10-bf1a-8f374bd2e652",
   "metadata": {},
   "outputs": [
    {
     "data": {
      "text/plain": [
       "'kashmir'"
      ]
     },
     "execution_count": 153,
     "metadata": {},
     "output_type": "execute_result"
    }
   ],
   "source": [
    "d5={'Fruites':['Apple','kashmir']}\n",
    "d5['Fruites'][1]"
   ]
  },
  {
   "cell_type": "code",
   "execution_count": 161,
   "id": "ba92d01e-d816-49a7-b1fd-d62bb10cca32",
   "metadata": {},
   "outputs": [
    {
     "data": {
      "text/plain": [
       "'kashmir'"
      ]
     },
     "execution_count": 161,
     "metadata": {},
     "output_type": "execute_result"
    }
   ],
   "source": [
    "d5={'Fruites':[{'Apple':'kashmir'}]}\n",
    "d5['Fruites'][0]['Apple']"
   ]
  },
  {
   "cell_type": "code",
   "execution_count": 167,
   "id": "45f6eb19-e318-4252-91fc-90b5cd6af38f",
   "metadata": {},
   "outputs": [
    {
     "data": {
      "text/plain": [
       "['__class__',\n",
       " '__class_getitem__',\n",
       " '__contains__',\n",
       " '__delattr__',\n",
       " '__delitem__',\n",
       " '__dir__',\n",
       " '__doc__',\n",
       " '__eq__',\n",
       " '__format__',\n",
       " '__ge__',\n",
       " '__getattribute__',\n",
       " '__getitem__',\n",
       " '__getstate__',\n",
       " '__gt__',\n",
       " '__hash__',\n",
       " '__init__',\n",
       " '__init_subclass__',\n",
       " '__ior__',\n",
       " '__iter__',\n",
       " '__le__',\n",
       " '__len__',\n",
       " '__lt__',\n",
       " '__ne__',\n",
       " '__new__',\n",
       " '__or__',\n",
       " '__reduce__',\n",
       " '__reduce_ex__',\n",
       " '__repr__',\n",
       " '__reversed__',\n",
       " '__ror__',\n",
       " '__setattr__',\n",
       " '__setitem__',\n",
       " '__sizeof__',\n",
       " '__str__',\n",
       " '__subclasshook__',\n",
       " 'clear',\n",
       " 'copy',\n",
       " 'fromkeys',\n",
       " 'get',\n",
       " 'items',\n",
       " 'keys',\n",
       " 'pop',\n",
       " 'popitem',\n",
       " 'setdefault',\n",
       " 'update',\n",
       " 'values']"
      ]
     },
     "execution_count": 167,
     "metadata": {},
     "output_type": "execute_result"
    }
   ],
   "source": [
    "##Methods\n",
    "# dir('') Dir of empty string\n",
    "# dir([]) Dir of empty list\n",
    "dir({})"
   ]
  },
  {
   "cell_type": "code",
   "execution_count": 171,
   "id": "af7c47ed-890a-4f6e-a606-6f585275e333",
   "metadata": {},
   "outputs": [
    {
     "data": {
      "text/plain": [
       "dict_items([('Ramesh', 'Bye'), ('Mahesh', 'Mai'), ('dai', 'toy')])"
      ]
     },
     "execution_count": 171,
     "metadata": {},
     "output_type": "execute_result"
    }
   ],
   "source": [
    "d4={'Ramesh':'0,1','Ramesh':'Bye','Mahesh':'Mai','dai':'toy'}\n",
    "d4.items()"
   ]
  },
  {
   "cell_type": "code",
   "execution_count": 173,
   "id": "ee7d31ab-002a-440f-9ff0-75d4795dd045",
   "metadata": {},
   "outputs": [
    {
     "data": {
      "text/plain": [
       "dict_keys(['Ramesh', 'Mahesh', 'dai'])"
      ]
     },
     "execution_count": 173,
     "metadata": {},
     "output_type": "execute_result"
    }
   ],
   "source": [
    "d4.keys()"
   ]
  },
  {
   "cell_type": "code",
   "execution_count": 183,
   "id": "7462d8ec-b942-4893-bb3a-c2b12cff1087",
   "metadata": {},
   "outputs": [
    {
     "data": {
      "text/plain": [
       "dict_values(['Bye', 'Mai', 'toy'])"
      ]
     },
     "execution_count": 183,
     "metadata": {},
     "output_type": "execute_result"
    }
   ],
   "source": [
    "d4.values()\n",
    "##note the output is not list. we need to run into loops"
   ]
  },
  {
   "cell_type": "code",
   "execution_count": 185,
   "id": "718a530c-ed64-4196-aa3d-ad5303cf7783",
   "metadata": {},
   "outputs": [
    {
     "data": {
      "text/plain": [
       "list[dict_items([('Ramesh', 'Bye'), ('Mahesh', 'Mai'), ('dai', 'toy')])]"
      ]
     },
     "execution_count": 185,
     "metadata": {},
     "output_type": "execute_result"
    }
   ],
   "source": [
    "d4={'Ramesh':'0,1','Ramesh':'Bye','Mahesh':'Mai','dai':'toy'}\n",
    "list[d4.items()]\n",
    "## FOr list output"
   ]
  },
  {
   "cell_type": "code",
   "execution_count": 189,
   "id": "eb72a5a0-eddc-4b4e-9373-3330b6040b06",
   "metadata": {},
   "outputs": [
    {
     "data": {
      "text/plain": [
       "list[dict_keys(['Ramesh', 'Mahesh', 'dai'])]"
      ]
     },
     "execution_count": 189,
     "metadata": {},
     "output_type": "execute_result"
    }
   ],
   "source": [
    "d4={'Ramesh':'0,1','Ramesh':'Bye','Mahesh':'Mai','dai':'toy'}\n",
    "list[d4.keys()]\n",
    "## FOr list output"
   ]
  },
  {
   "cell_type": "code",
   "execution_count": 191,
   "id": "a3a6c39a-07d5-409f-9ead-dbcd54d1d534",
   "metadata": {},
   "outputs": [
    {
     "data": {
      "text/plain": [
       "list[dict_values(['Bye', 'Mai', 'toy'])]"
      ]
     },
     "execution_count": 191,
     "metadata": {},
     "output_type": "execute_result"
    }
   ],
   "source": [
    "d4={'Ramesh':'0,1','Ramesh':'Bye','Mahesh':'Mai','dai':'toy'}\n",
    "list[d4.values()]\n",
    "## FOr list output"
   ]
  },
  {
   "cell_type": "code",
   "execution_count": 201,
   "id": "a58c2bdb-3685-4397-9547-35072c240632",
   "metadata": {},
   "outputs": [
    {
     "name": "stdout",
     "output_type": "stream",
     "text": [
      "Ramesh Bye\n",
      "Mahesh Mai\n",
      "dai toy\n"
     ]
    },
    {
     "data": {
      "text/plain": [
       "{}"
      ]
     },
     "execution_count": 201,
     "metadata": {},
     "output_type": "execute_result"
    }
   ],
   "source": [
    "## Key using the loops\n",
    "d4={'Ramesh':'0,1','Ramesh':'Bye','Mahesh':'Mai','dai':'toy'}\n",
    "d={}\n",
    "for keys,values in d4.items():\n",
    "    print(keys,values)\n",
    "d"
   ]
  },
  {
   "cell_type": "code",
   "execution_count": 203,
   "id": "71a32f51-ae12-4bab-bb9f-4993fe6c5a84",
   "metadata": {},
   "outputs": [
    {
     "name": "stdout",
     "output_type": "stream",
     "text": [
      "Ramesh\n",
      "Mahesh\n",
      "dai\n"
     ]
    },
    {
     "data": {
      "text/plain": [
       "{}"
      ]
     },
     "execution_count": 203,
     "metadata": {},
     "output_type": "execute_result"
    }
   ],
   "source": [
    "d4={'Ramesh':'0,1','Ramesh':'Bye','Mahesh':'Mai','dai':'toy'}\n",
    "d={}\n",
    "for i in d4.keys():\n",
    "    print(i)\n",
    "d"
   ]
  },
  {
   "cell_type": "code",
   "execution_count": 205,
   "id": "17656643-e1c7-45a7-9fcf-d35ac1a8a256",
   "metadata": {},
   "outputs": [
    {
     "name": "stdout",
     "output_type": "stream",
     "text": [
      "Bye\n",
      "Mai\n",
      "toy\n"
     ]
    },
    {
     "data": {
      "text/plain": [
       "{}"
      ]
     },
     "execution_count": 205,
     "metadata": {},
     "output_type": "execute_result"
    }
   ],
   "source": [
    "d4={'Ramesh':'0,1','Ramesh':'Bye','Mahesh':'Mai','dai':'toy'}\n",
    "d={}\n",
    "for i in d4.values():\n",
    "    print(i)\n",
    "d"
   ]
  },
  {
   "cell_type": "code",
   "execution_count": 207,
   "id": "d8e73f37-176c-4449-bd46-fbb981e887ec",
   "metadata": {},
   "outputs": [
    {
     "name": "stdout",
     "output_type": "stream",
     "text": [
      "('Ramesh', 'Bye')\n",
      "('Mahesh', 'Mai')\n",
      "('dai', 'toy')\n"
     ]
    },
    {
     "data": {
      "text/plain": [
       "{}"
      ]
     },
     "execution_count": 207,
     "metadata": {},
     "output_type": "execute_result"
    }
   ],
   "source": [
    "d4={'Ramesh':'0,1','Ramesh':'Bye','Mahesh':'Mai','dai':'toy'}\n",
    "d={}\n",
    "for i in d4.items():\n",
    "    print(i)\n",
    "d"
   ]
  },
  {
   "cell_type": "code",
   "execution_count": 209,
   "id": "48db939b-6e7f-4f3a-9e87-6f337a4a1abf",
   "metadata": {},
   "outputs": [],
   "source": [
    "d4.update(d5)"
   ]
  },
  {
   "cell_type": "code",
   "execution_count": 211,
   "id": "c9691d73-31bf-4d5e-9b42-8653ef1291ff",
   "metadata": {},
   "outputs": [
    {
     "data": {
      "text/plain": [
       "{'Ramesh': 'Bye',\n",
       " 'Mahesh': 'Mai',\n",
       " 'dai': 'toy',\n",
       " 'Fruites': [{'Apple': 'kashmir'}]}"
      ]
     },
     "execution_count": 211,
     "metadata": {},
     "output_type": "execute_result"
    }
   ],
   "source": [
    "d4"
   ]
  },
  {
   "cell_type": "code",
   "execution_count": 213,
   "id": "d48b26be-1aa2-4137-98ce-af688722bc16",
   "metadata": {},
   "outputs": [],
   "source": [
    "d5.update(d4)"
   ]
  },
  {
   "cell_type": "code",
   "execution_count": 215,
   "id": "267da0f7-ed48-4cf1-b83a-cae3ba625d25",
   "metadata": {},
   "outputs": [
    {
     "data": {
      "text/plain": [
       "{'Fruites': [{'Apple': 'kashmir'}],\n",
       " 'Ramesh': 'Bye',\n",
       " 'Mahesh': 'Mai',\n",
       " 'dai': 'toy'}"
      ]
     },
     "execution_count": 215,
     "metadata": {},
     "output_type": "execute_result"
    }
   ],
   "source": [
    "d5"
   ]
  },
  {
   "cell_type": "code",
   "execution_count": 225,
   "id": "aaa808ed-9bde-45b6-aca5-f9924df63d24",
   "metadata": {},
   "outputs": [
    {
     "data": {
      "text/plain": [
       "30"
      ]
     },
     "execution_count": 225,
     "metadata": {},
     "output_type": "execute_result"
    }
   ],
   "source": [
    "#Set Default example\n",
    "# Set default will only works for new entry as default. \n",
    "# It will not update the existing key's value\n",
    "d1.setdefault(\"SetDefault\",30)"
   ]
  },
  {
   "cell_type": "code",
   "execution_count": 221,
   "id": "47db654f-99dc-4000-a382-75926a65b716",
   "metadata": {},
   "outputs": [
    {
     "data": {
      "text/plain": [
       "{'Ramesh': 20, 'Suresh': 21, 'Mahesh': 22, 'SetDefault': 30}"
      ]
     },
     "execution_count": 221,
     "metadata": {},
     "output_type": "execute_result"
    }
   ],
   "source": [
    "d1"
   ]
  },
  {
   "cell_type": "code",
   "execution_count": 237,
   "id": "03b05f49-df9d-46e4-9ac5-ca7b0491cac4",
   "metadata": {},
   "outputs": [
    {
     "data": {
      "text/plain": [
       "{'Name': None, 'Age': None, 'City': None}"
      ]
     },
     "execution_count": 237,
     "metadata": {},
     "output_type": "execute_result"
    }
   ],
   "source": [
    "###Exampel of FROMKEYS IF ONLY KEY PRESEnt NONE will return\n",
    "keys=['Name', 'Age', 'City']\n",
    "dict.fromkeys(keys)"
   ]
  },
  {
   "cell_type": "code",
   "execution_count": 243,
   "id": "f4e5a1c7-102f-47e9-9ffb-0efea91c4952",
   "metadata": {},
   "outputs": [
    {
     "data": {
      "text/plain": [
       "{'Name': 'stringvalueFORall',\n",
       " 'Age': 'stringvalueFORall',\n",
       " 'City': 'stringvalueFORall'}"
      ]
     },
     "execution_count": 243,
     "metadata": {},
     "output_type": "execute_result"
    }
   ],
   "source": [
    "#if we have key and set single value for all\n",
    "keys=['Name', 'Age', 'City']\n",
    "dict.fromkeys(keys, \"stringvalueFORall\")"
   ]
  },
  {
   "cell_type": "code",
   "execution_count": null,
   "id": "3ebd0c7e-4717-4f81-9ff4-bcf821e176e0",
   "metadata": {},
   "outputs": [],
   "source": []
  }
 ],
 "metadata": {
  "kernelspec": {
   "display_name": "Python 3 (ipykernel)",
   "language": "python",
   "name": "python3"
  },
  "language_info": {
   "codemirror_mode": {
    "name": "ipython",
    "version": 3
   },
   "file_extension": ".py",
   "mimetype": "text/x-python",
   "name": "python",
   "nbconvert_exporter": "python",
   "pygments_lexer": "ipython3",
   "version": "3.12.4"
  }
 },
 "nbformat": 4,
 "nbformat_minor": 5
}
