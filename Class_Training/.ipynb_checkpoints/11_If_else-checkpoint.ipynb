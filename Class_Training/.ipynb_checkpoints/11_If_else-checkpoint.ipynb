{
 "cells": [
  {
   "cell_type": "code",
   "execution_count": 1,
   "id": "c704723f-540a-43f8-8b34-8e4c3a2d1019",
   "metadata": {},
   "outputs": [
    {
     "name": "stdout",
     "output_type": "stream",
     "text": [
      "Passed\n"
     ]
    }
   ],
   "source": [
    "grade=68\n",
    "if grade >= 60:\n",
    "    print('Passed')"
   ]
  },
  {
   "cell_type": "code",
   "execution_count": 3,
   "id": "b0d7da55-f31d-425c-ac1b-b36571828a69",
   "metadata": {},
   "outputs": [
    {
     "name": "stdout",
     "output_type": "stream",
     "text": [
      "Any Non zero value is True, so this will print\n"
     ]
    }
   ],
   "source": [
    "if 1:\n",
    "    print(\"Any Non zero value is True, so this will print\")"
   ]
  },
  {
   "cell_type": "code",
   "execution_count": 7,
   "id": "a314dc80-69a5-486b-825f-ff8fdc78504b",
   "metadata": {},
   "outputs": [],
   "source": [
    "if 0:\n",
    "    print(\"ONLY Any Non zero value is True, so this will print\") #<<<<NOT RETRUN ANY THING"
   ]
  },
  {
   "cell_type": "code",
   "execution_count": 9,
   "id": "8b786283-334b-4e24-8f97-43f02e5d5533",
   "metadata": {},
   "outputs": [
    {
     "name": "stdout",
     "output_type": "stream",
     "text": [
      "ONLY Any Non zero value is True, so this will print\n"
     ]
    }
   ],
   "source": [
    "if \" \":\n",
    "    print(\" Any Non zero value is True, so this will print\") ### STRING EMPTY BUT STILL HAVE SPACE INBETWEEN"
   ]
  },
  {
   "cell_type": "code",
   "execution_count": 13,
   "id": "83564951-4b34-4404-8f91-8e27666e0ab2",
   "metadata": {},
   "outputs": [],
   "source": [
    "if \"\":\n",
    "    print(\"ONLY Any Non zero value is True, so this will print\") #<<<< This will fail because the string is empty"
   ]
  },
  {
   "cell_type": "code",
   "execution_count": 15,
   "id": "8589d6ee-b7ac-4476-9e07-db3f1bb5e755",
   "metadata": {},
   "outputs": [
    {
     "data": {
      "text/plain": [
       "False"
      ]
     },
     "execution_count": 15,
     "metadata": {},
     "output_type": "execute_result"
    }
   ],
   "source": [
    "grade == 86"
   ]
  },
  {
   "cell_type": "code",
   "execution_count": 17,
   "id": "6362b326-9ba5-4424-81a0-db2a7a590b45",
   "metadata": {},
   "outputs": [
    {
     "data": {
      "text/plain": [
       "True"
      ]
     },
     "execution_count": 17,
     "metadata": {},
     "output_type": "execute_result"
    }
   ],
   "source": [
    "grade == 68"
   ]
  },
  {
   "cell_type": "code",
   "execution_count": 19,
   "id": "1d4b1437-bcf5-44a3-b413-32bd0ab413e8",
   "metadata": {},
   "outputs": [
    {
     "data": {
      "text/plain": [
       "False"
      ]
     },
     "execution_count": 19,
     "metadata": {},
     "output_type": "execute_result"
    }
   ],
   "source": [
    "grade <= 67"
   ]
  },
  {
   "cell_type": "code",
   "execution_count": 33,
   "id": "5a5c35b2-e76b-46ea-8882-badd06a5cf32",
   "metadata": {},
   "outputs": [],
   "source": [
    "if grade >= 69:\n",
    "    print(bool())\n",
    "    print(\"Grade is less or equal to 69\")"
   ]
  },
  {
   "cell_type": "code",
   "execution_count": 35,
   "id": "388dd514-5ed8-4a27-aef8-d98073bf2372",
   "metadata": {},
   "outputs": [
    {
     "name": "stdout",
     "output_type": "stream",
     "text": [
      "False\n",
      "Grade is less or equal to 69\n"
     ]
    }
   ],
   "source": [
    "if grade <= 69:\n",
    "    print(bool())\n",
    "    print(\"Grade is less or equal to 69\")"
   ]
  },
  {
   "cell_type": "code",
   "execution_count": 3,
   "id": "4a0ea6f9-f202-433b-83d8-c510205ebe3f",
   "metadata": {},
   "outputs": [
    {
     "name": "stdout",
     "output_type": "stream",
     "text": [
      "Passed\n"
     ]
    }
   ],
   "source": [
    "grade = 86\n",
    "result = ('Passed' if grade >= 60 else 'Failed')\n",
    "print(result)"
   ]
  },
  {
   "cell_type": "code",
   "execution_count": 4,
   "id": "882fbc8b",
   "metadata": {},
   "outputs": [
    {
     "data": {
      "text/plain": [
       "'Passed'"
      ]
     },
     "execution_count": 4,
     "metadata": {},
     "output_type": "execute_result"
    }
   ],
   "source": [
    "'Passed' if grade >= 70 else 'Failed'"
   ]
  },
  {
   "cell_type": "code",
   "execution_count": 8,
   "id": "a0bf7638",
   "metadata": {},
   "outputs": [
    {
     "name": "stdout",
     "output_type": "stream",
     "text": [
      "Better luck next tim\n"
     ]
    }
   ],
   "source": [
    "grade = 59\n",
    "if grade >= 90:\n",
    "    print(\"Grade: \" 'A')\n",
    "elif grade >= 80:\n",
    "    print(\"Grade B\" \"VV Good\")\n",
    "elif grade >=70:\n",
    "    print(\"Grade C\" \"VV Good\")\n",
    "elif grade >=60:\n",
    "    print(\"Grade D Just pass\")\n",
    "else:\n",
    "    print(\"Better luck next tim\")"
   ]
  },
  {
   "cell_type": "code",
   "execution_count": null,
   "id": "96005085",
   "metadata": {},
   "outputs": [],
   "source": []
  }
 ],
 "metadata": {
  "kernelspec": {
   "display_name": "base",
   "language": "python",
   "name": "python3"
  },
  "language_info": {
   "codemirror_mode": {
    "name": "ipython",
    "version": 3
   },
   "file_extension": ".py",
   "mimetype": "text/x-python",
   "name": "python",
   "nbconvert_exporter": "python",
   "pygments_lexer": "ipython3",
   "version": "3.12.4"
  }
 },
 "nbformat": 4,
 "nbformat_minor": 5
}
