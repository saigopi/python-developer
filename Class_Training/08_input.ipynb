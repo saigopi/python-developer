{
 "cells": [
  {
   "cell_type": "code",
   "execution_count": 1,
   "id": "275a508d-c71b-4526-917a-8f3e3e326e22",
   "metadata": {},
   "outputs": [
    {
     "name": "stdin",
     "output_type": "stream",
     "text": [
      "What is your name:  Gopinath Jayabalan\n"
     ]
    }
   ],
   "source": [
    "Name = input(\"What is your name: \" )"
   ]
  },
  {
   "cell_type": "code",
   "execution_count": 3,
   "id": "b99bcf2c-2d12-4be9-ba28-6f1b6eae87fd",
   "metadata": {},
   "outputs": [
    {
     "data": {
      "text/plain": [
       "'Gopinath Jayabalan'"
      ]
     },
     "execution_count": 3,
     "metadata": {},
     "output_type": "execute_result"
    }
   ],
   "source": [
    "Name"
   ]
  },
  {
   "cell_type": "code",
   "execution_count": 5,
   "id": "0485b704-86e1-415b-a513-6aabdd58d9fb",
   "metadata": {},
   "outputs": [
    {
     "name": "stdout",
     "output_type": "stream",
     "text": [
      "Gopinath Jayabalan\n"
     ]
    }
   ],
   "source": [
    "print(Name)"
   ]
  },
  {
   "cell_type": "code",
   "execution_count": 7,
   "id": "f342c3f4-f160-4fcf-bd5b-a3fb7584e33e",
   "metadata": {},
   "outputs": [
    {
     "name": "stdin",
     "output_type": "stream",
     "text": [
      "What is your name:  'GOPi'\n"
     ]
    }
   ],
   "source": [
    "Name = input(\"What is your name: \" )"
   ]
  },
  {
   "cell_type": "code",
   "execution_count": 9,
   "id": "37c9efc9-2abf-46c4-8706-99b4cac7b6a3",
   "metadata": {},
   "outputs": [
    {
     "data": {
      "text/plain": [
       "\"'GOPi'\""
      ]
     },
     "execution_count": 9,
     "metadata": {},
     "output_type": "execute_result"
    }
   ],
   "source": [
    "Name"
   ]
  },
  {
   "cell_type": "code",
   "execution_count": 11,
   "id": "1c2a0176-d8b0-405a-9f24-4554c7aed952",
   "metadata": {},
   "outputs": [
    {
     "name": "stdout",
     "output_type": "stream",
     "text": [
      "'GOPi'\n"
     ]
    }
   ],
   "source": [
    "print(Name)"
   ]
  },
  {
   "cell_type": "code",
   "execution_count": 13,
   "id": "c8174b37-a8ee-4bce-8f17-1eccdb629940",
   "metadata": {},
   "outputs": [
    {
     "name": "stdin",
     "output_type": "stream",
     "text": [
      "What is your name:  2\n"
     ]
    }
   ],
   "source": [
    "Name = input(\"What is your name: \" )"
   ]
  },
  {
   "cell_type": "code",
   "execution_count": 15,
   "id": "6fc56751-5e20-4861-ad36-1caf9ffc01ac",
   "metadata": {},
   "outputs": [
    {
     "data": {
      "text/plain": [
       "'2'"
      ]
     },
     "execution_count": 15,
     "metadata": {},
     "output_type": "execute_result"
    }
   ],
   "source": [
    "Name"
   ]
  },
  {
   "cell_type": "code",
   "execution_count": 17,
   "id": "85ba5e1f-9384-47a9-8841-907521785d9c",
   "metadata": {},
   "outputs": [
    {
     "name": "stdin",
     "output_type": "stream",
     "text": [
      "What is your name:  GOPI\n"
     ]
    },
    {
     "ename": "ValueError",
     "evalue": "invalid literal for int() with base 10: 'GOPI'",
     "output_type": "error",
     "traceback": [
      "\u001b[1;31m---------------------------------------------------------------------------\u001b[0m",
      "\u001b[1;31mValueError\u001b[0m                                Traceback (most recent call last)",
      "Cell \u001b[1;32mIn[17], line 1\u001b[0m\n\u001b[1;32m----> 1\u001b[0m Name \u001b[38;5;241m=\u001b[39m \u001b[38;5;28mint\u001b[39m(\u001b[38;5;28minput\u001b[39m(\u001b[38;5;124m\"\u001b[39m\u001b[38;5;124mWhat is your name: \u001b[39m\u001b[38;5;124m\"\u001b[39m ))\n",
      "\u001b[1;31mValueError\u001b[0m: invalid literal for int() with base 10: 'GOPI'"
     ]
    }
   ],
   "source": [
    "Name = int(input(\"What is your name: \" ))"
   ]
  },
  {
   "cell_type": "code",
   "execution_count": null,
   "id": "1be3a8f9-3e35-404c-a9ba-6ded16b18d5e",
   "metadata": {},
   "outputs": [],
   "source": []
  }
 ],
 "metadata": {
  "kernelspec": {
   "display_name": "Python 3 (ipykernel)",
   "language": "python",
   "name": "python3"
  },
  "language_info": {
   "codemirror_mode": {
    "name": "ipython",
    "version": 3
   },
   "file_extension": ".py",
   "mimetype": "text/x-python",
   "name": "python",
   "nbconvert_exporter": "python",
   "pygments_lexer": "ipython3",
   "version": "3.12.4"
  }
 },
 "nbformat": 4,
 "nbformat_minor": 5
}
