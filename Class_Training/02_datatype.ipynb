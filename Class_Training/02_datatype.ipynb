{
 "cells": [
  {
   "cell_type": "markdown",
   "id": "e62902ca-8666-4c31-b7c1-b62a081affa5",
   "metadata": {},
   "source": [
    "### Find the Address of the variable \n",
    "##### ID of location will give memory location.\n",
    "##### Basic data type are\n",
    "##### Int, Float, Complex, Str, Bool\n",
    "\n",
    "\n",
    "Note: Any data type can be converted into boolean\n",
    "#### bool(any data) = True or False\n",
    "##### bool(empty)= False \n",
    "##### bool(0)\n",
    "##### bool()\n",
    "##### bool(\"\")\n",
    "##### bool('')\n",
    "##### bool([]) List\n",
    "##### bool(()) Tuple\n",
    "##### bool({}) Dictinory\n",
    "\n",
    "BUT The below are TRUE, Empty list,tuple,dic.\n",
    "\n",
    "#####\n",
    "### Below example are True, Because we added inside the String \"[]\" \"()\"\n",
    "##### print(bool(\"[]\"))\n",
    "##### print(bool('()'))\n",
    "##### print(bool(\"[]\")) #List\n",
    "##### print(bool('--'))\n",
    "\n",
    "##### print(bool(())) #Tuple\n",
    "##### print(bool({})) # Dictinory"
   ]
  },
  {
   "cell_type": "code",
   "execution_count": 6,
   "id": "c29bf2ea-c2e5-4d5f-9f48-54349ca45491",
   "metadata": {},
   "outputs": [
    {
     "data": {
      "text/plain": [
       "(1, 2, 3)"
      ]
     },
     "execution_count": 6,
     "metadata": {},
     "output_type": "execute_result"
    }
   ],
   "source": [
    "x=1; y=2; z=3\n",
    "x,y,z"
   ]
  },
  {
   "cell_type": "code",
   "execution_count": 10,
   "id": "af2995e1-66dd-494e-9703-c4f5f113baa1",
   "metadata": {},
   "outputs": [
    {
     "name": "stdout",
     "output_type": "stream",
     "text": [
      "1 <class 'int'>\n",
      "2 <class 'int'>\n",
      "3 <class 'int'>\n"
     ]
    }
   ],
   "source": [
    "print(x,type(x))\n",
    "print(y,type(y))\n",
    "print(z,type(z))\n"
   ]
  },
  {
   "cell_type": "code",
   "execution_count": 16,
   "id": "609540e1-f1d3-4d7c-ad96-b165a79dd09f",
   "metadata": {},
   "outputs": [
    {
     "name": "stdout",
     "output_type": "stream",
     "text": [
      "Gopinath\n",
      "Gopinath\n"
     ]
    }
   ],
   "source": [
    "#Work with Single and double\n",
    "# my_name=Gopinath This will not work\n",
    "my_name1=\"Gopinath\"\n",
    "\n",
    "my_name2='Gopinath'\n",
    "print(my_name1)\n",
    "print(my_name2)"
   ]
  },
  {
   "cell_type": "code",
   "execution_count": 18,
   "id": "8b30f21f-6846-4190-baf0-16e2d36ec80d",
   "metadata": {},
   "outputs": [
    {
     "data": {
      "text/plain": [
       "2395071777456"
      ]
     },
     "execution_count": 18,
     "metadata": {},
     "output_type": "execute_result"
    }
   ],
   "source": [
    "id(my_name1)"
   ]
  },
  {
   "cell_type": "code",
   "execution_count": 20,
   "id": "c2a992a8-7e7c-495a-9966-6eafc4bd0e84",
   "metadata": {},
   "outputs": [
    {
     "data": {
      "text/plain": [
       "str"
      ]
     },
     "execution_count": 20,
     "metadata": {},
     "output_type": "execute_result"
    }
   ],
   "source": [
    "type(my_name)"
   ]
  },
  {
   "cell_type": "code",
   "execution_count": 24,
   "id": "88416487-be80-4da8-ae37-c286e9811993",
   "metadata": {},
   "outputs": [
    {
     "name": "stdout",
     "output_type": "stream",
     "text": [
      "True\n",
      "False\n"
     ]
    }
   ],
   "source": [
    "Pass=True\n",
    "Fail=False\n",
    "print(Pass)\n",
    "print(Fail)"
   ]
  },
  {
   "cell_type": "code",
   "execution_count": 30,
   "id": "053c1473-c7ac-42ff-935d-9ff42723a812",
   "metadata": {},
   "outputs": [],
   "source": [
    "#But remember anything inside the string is string.\n",
    "Pass=\"True1\""
   ]
  },
  {
   "cell_type": "code",
   "execution_count": 28,
   "id": "cea0a9b1-467a-4602-8d06-074561f81b84",
   "metadata": {},
   "outputs": [
    {
     "data": {
      "text/plain": [
       "'True'"
      ]
     },
     "execution_count": 28,
     "metadata": {},
     "output_type": "execute_result"
    }
   ],
   "source": [
    "Pass"
   ]
  },
  {
   "cell_type": "code",
   "execution_count": 34,
   "id": "5cf158cc-a970-4943-a278-2540d9331e4a",
   "metadata": {},
   "outputs": [],
   "source": [
    "Pass=\"True1\""
   ]
  },
  {
   "cell_type": "code",
   "execution_count": 36,
   "id": "62a5b68c-e32a-49fa-8c3c-c40c6bcc16a6",
   "metadata": {},
   "outputs": [
    {
     "data": {
      "text/plain": [
       "False"
      ]
     },
     "execution_count": 36,
     "metadata": {},
     "output_type": "execute_result"
    }
   ],
   "source": [
    "bool()"
   ]
  },
  {
   "cell_type": "code",
   "execution_count": 50,
   "id": "3082f121-4e2e-4142-ab8d-dab5cdb2c640",
   "metadata": {},
   "outputs": [
    {
     "data": {
      "text/plain": [
       "bool"
      ]
     },
     "execution_count": 50,
     "metadata": {},
     "output_type": "execute_result"
    }
   ],
   "source": [
    "type(bool(\"[]\"))"
   ]
  },
  {
   "cell_type": "code",
   "execution_count": 46,
   "id": "0b456e58-987f-4fc4-91a8-498a698f1cb3",
   "metadata": {
    "scrolled": true
   },
   "outputs": [
    {
     "name": "stdout",
     "output_type": "stream",
     "text": [
      "False\n",
      "False\n",
      "False\n",
      "False\n",
      "False\n"
     ]
    }
   ],
   "source": [
    "#Below example are False\n",
    "print(bool(\"\"))\n",
    "print(bool(''))\n",
    "print(bool([])) #List\n",
    "print(bool(())) #Tuple\n",
    "print(bool({})) # Dictinory"
   ]
  },
  {
   "cell_type": "code",
   "execution_count": 54,
   "id": "e0bcb21b-5378-43a8-a35b-c7111eaafc2d",
   "metadata": {},
   "outputs": [
    {
     "name": "stdout",
     "output_type": "stream",
     "text": [
      "True\n",
      "True\n",
      "True\n",
      "True\n",
      "False\n",
      "False\n"
     ]
    }
   ],
   "source": [
    "#Below example are True, Because we added inside the String \"[]\" \"()\"\n",
    "print(bool(\"[]\"))\n",
    "print(bool('()'))\n",
    "print(bool(\"[]\")) #List\n",
    "print(bool('--'))\n",
    "\n",
    "print(bool(())) #Tuple\n",
    "print(bool({})) # Dictinory"
   ]
  },
  {
   "cell_type": "code",
   "execution_count": null,
   "id": "6bb9a2ef-76ea-415f-8c44-f93baf312b36",
   "metadata": {},
   "outputs": [],
   "source": []
  }
 ],
 "metadata": {
  "kernelspec": {
   "display_name": "Python 3 (ipykernel)",
   "language": "python",
   "name": "python3"
  },
  "language_info": {
   "codemirror_mode": {
    "name": "ipython",
    "version": 3
   },
   "file_extension": ".py",
   "mimetype": "text/x-python",
   "name": "python",
   "nbconvert_exporter": "python",
   "pygments_lexer": "ipython3",
   "version": "3.12.4"
  }
 },
 "nbformat": 4,
 "nbformat_minor": 5
}
