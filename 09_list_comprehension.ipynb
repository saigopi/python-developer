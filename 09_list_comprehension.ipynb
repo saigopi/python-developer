{
 "cells": [
  {
   "cell_type": "markdown",
   "id": "226de04c-fe67-4c36-8e77-6e502185c4c2",
   "metadata": {},
   "source": [
    "** List Comprehension **\n",
    "- List Comprehension is used to create lists in single line of code"
   ]
  },
  {
   "cell_type": "code",
   "execution_count": 3,
   "id": "5ab28486-07fe-4b59-8036-356f4c5bf7b9",
   "metadata": {},
   "outputs": [
    {
     "name": "stdout",
     "output_type": "stream",
     "text": [
      "0 1 2 3 4 5 6 7 8 9 "
     ]
    }
   ],
   "source": [
    "#example\n",
    "for i in range(10):\n",
    "    print(i, end=' ')\n",
    "    #What if I don't want to print the answer here, instead I want to store the answers. "
   ]
  },
  {
   "cell_type": "code",
   "execution_count": 9,
   "id": "4a1a1e9f-c371-412a-8bcb-172c3e49e333",
   "metadata": {},
   "outputs": [
    {
     "name": "stdout",
     "output_type": "stream",
     "text": [
      "[0, 1, 2, 3, 4, 5, 6, 7, 8, 9]\n"
     ]
    }
   ],
   "source": [
    "#What if I don't want to print the answer here, instead I want to store the answers. \n",
    "l=[]\n",
    "for i in range(10):\n",
    "    l.append(i)\n",
    "\n",
    "print(l)"
   ]
  },
  {
   "cell_type": "code",
   "execution_count": 11,
   "id": "7248bb23-fa4d-4c51-a833-aa17b5483994",
   "metadata": {},
   "outputs": [
    {
     "data": {
      "text/plain": [
       "[0, 1, 2, 3, 4, 5, 6, 7, 8, 9]"
      ]
     },
     "execution_count": 11,
     "metadata": {},
     "output_type": "execute_result"
    }
   ],
   "source": [
    "### METHID-1 only for loop\n",
    "## What is the output we are saving **i**\n",
    "## how our loop link look: ** for i in range(10)**\n",
    "## what is the variable name of the list **l**\n",
    "## syntax: list = [output for loop]\n",
    "#####LIST Comprehencsion way doing the same is below example\n",
    "l=[i for i in range(10)]\n",
    "l"
   ]
  },
  {
   "cell_type": "code",
   "execution_count": 46,
   "id": "56d10c47-7498-4981-8f3b-7baf47d961e9",
   "metadata": {},
   "outputs": [
    {
     "name": "stdout",
     "output_type": "stream",
     "text": [
      "Print only i 1\n",
      "Print only i 2\n",
      "Print only i 3\n",
      "Print only i 4\n",
      "Print only i 5\n",
      "###############\n",
      "print Square of i 1\n",
      "print Square of i 4\n",
      "print Square of i 9\n",
      "print Square of i 16\n",
      "print Square of i 25\n",
      "###############\n",
      "save the result in Sq_list\n",
      "sq_list DEFAULT WAY: >>> [1, 4, 9, 16, 25]\n",
      "###############\n",
      "### NOW DO THIS IN LIST COMPREHENSION ###\n",
      "sq_list LC WAY :>>> [1, 4, 9, 16, 25]\n"
     ]
    }
   ],
   "source": [
    "## example1\n",
    "## wap : save the list of square number of 1 to 6 \n",
    "for i in range(1,6):\n",
    "    print(\"Print only i\",i)\n",
    "print(\"###############\")\n",
    "\n",
    "#############\n",
    "for i in range(1,6):\n",
    "    print(\"print Square of i\",i*i)\n",
    "print(\"###############\")\n",
    "print(\"save the result in Sq_list\")\n",
    "sq_list=[]\n",
    "for i in range(1,6):\n",
    "    sq_list.append(i*i)\n",
    "print(\"sq_list DEFAULT WAY: >>>\",sq_list)\n",
    "print(\"###############\")\n",
    "print(\"### NOW DO THIS IN LIST COMPREHENSION ###\")\n",
    "sq_list=[i*i for i in range(1,6)]\n",
    "sq_list\n",
    "print(\"sq_list LC WAY :>>>\", sq_list)"
   ]
  },
  {
   "cell_type": "code",
   "execution_count": 107,
   "id": "1d96e588-63fb-4346-a277-e62486fca6a2",
   "metadata": {},
   "outputs": [
    {
     "name": "stdout",
     "output_type": "stream",
     "text": [
      "Hyd\n",
      "Mumbai\n",
      "Pune\n",
      "###############\n",
      "### NOW DO THIS IN LIST COMPREHENSION ###\n",
      "Via List comprehension : ['Hyd', 'Mumbai', 'Pune', 'Chennai']\n"
     ]
    }
   ],
   "source": [
    "###TEST1\n",
    "#i/p l=['hyd','mumbai','pune']\n",
    "l=['hyd','mumbai','pune']\n",
    "for i in l:\n",
    "    print(i.capitalize())\n",
    "print(\"###############\")\n",
    "print(\"### NOW DO THIS IN LIST COMPREHENSION ###\")\n",
    "lc=['hyd','mumbai','pune',\"chennai\"]\n",
    "#lC=[str(lC).title() for i in lC]\n",
    "lc=[i.capitalize() for i in lc]\n",
    "print(\"Via List comprehension :\", lc)"
   ]
  },
  {
   "cell_type": "code",
   "execution_count": 109,
   "id": "e13c2a63-9458-4f69-805c-86cea7b05d8d",
   "metadata": {},
   "outputs": [
    {
     "name": "stdout",
     "output_type": "stream",
     "text": [
      "HYD\n",
      "MUMBAI\n",
      "PUNE\n",
      "###############\n",
      "### NOW DO THIS IN LIST COMPREHENSION ###\n",
      "Via List comprehension : ['HYD', 'MUMBAI', 'PUNE', 'CHENNAI']\n"
     ]
    }
   ],
   "source": [
    "###TEST\n",
    "#i/p l=['hyd','mumbai','pune']\n",
    "l=['hyd','mumbai','pune']\n",
    "for i in l:\n",
    "    print(i.upper())\n",
    "print(\"###############\")\n",
    "print(\"### NOW DO THIS IN LIST COMPREHENSION ###\")\n",
    "lc=['hyd','mumbai','pune',\"chennai\"]\n",
    "#lC=[str(lC).title() for i in lC]\n",
    "lc=[i.upper() for i in lc]\n",
    "print(\"Via List comprehension :\", lc)"
   ]
  },
  {
   "cell_type": "code",
   "execution_count": 157,
   "id": "fad481c6-fd0e-460e-a613-b06a2b20dc2d",
   "metadata": {},
   "outputs": [
    {
     "name": "stdout",
     "output_type": "stream",
     "text": [
      "0\n",
      "1\n",
      "2\n",
      "###############\n",
      "### NOW DO THIS IN LIST COMPREHENSION ###\n",
      "Giving only the list index's = [0, 10, 20, 30]\n"
     ]
    }
   ],
   "source": [
    "###TEST\n",
    "#i/p l=['hyd','mumbai','pune']\n",
    "l=['hyd','mumbai','pune']\n",
    "for i in l:\n",
    "    out=(l.index(i))\n",
    "    print(out)\n",
    "print(\"###############\")\n",
    "print(\"### NOW DO THIS IN LIST COMPREHENSION ###\")\n",
    "lc=['hyd','mumbai','pune',\"chennai\"]\n",
    "#lC=[str(lC).title() for i in lC]\n",
    "out=[lc.index(i) * 10 for i in lc]\n",
    "print(\"Giving only the list index's =\",out)"
   ]
  },
  {
   "cell_type": "code",
   "execution_count": 151,
   "id": "1df25666-cdde-4611-8a8f-f537ed4a20f1",
   "metadata": {},
   "outputs": [
    {
     "name": "stdout",
     "output_type": "stream",
     "text": [
      "0\n",
      "1\n",
      "2\n",
      "###############\n",
      "### NOW DO THIS IN LIST COMPREHENSION ###\n",
      "Sum of index = 60\n"
     ]
    }
   ],
   "source": [
    "###TEST\n",
    "#i/p l=['hyd','mumbai','pune']\n",
    "l=['hyd','mumbai','pune']\n",
    "for i in l:\n",
    "    out=(l.index(i))\n",
    "    print(out)\n",
    "print(\"###############\")\n",
    "print(\"### NOW DO THIS IN LIST COMPREHENSION ###\")\n",
    "lc=['hyd','mumbai','pune',\"chennai\"]\n",
    "#lC=[str(lC).title() for i in lC]\n",
    "out=[lc.index(i) * 10 for i in lc]\n",
    "print(\"Sum of index =\",sum(out))"
   ]
  },
  {
   "cell_type": "code",
   "execution_count": 159,
   "id": "b17c8b2e-62b0-400e-b139-c4690acd33dd",
   "metadata": {},
   "outputs": [],
   "source": [
    "l=['hyd', \"CHEN#nai, pu#ne, banga#lore\"]"
   ]
  },
  {
   "cell_type": "code",
   "execution_count": 191,
   "id": "0d801905-061a-406d-aae7-931119a3abfd",
   "metadata": {},
   "outputs": [
    {
     "name": "stdout",
     "output_type": "stream",
     "text": [
      "Only the letter with # ['CHEN#nai, pu#ne, banga#lore']\n"
     ]
    }
   ],
   "source": [
    "out=[]\n",
    "for i in l:\n",
    "    if '#' in i:\n",
    "        out.append(i)\n",
    "print(\"Only the letter with #\", out)"
   ]
  },
  {
   "cell_type": "code",
   "execution_count": 193,
   "id": "7402eacc-0b01-4baf-918b-79f13ca8699e",
   "metadata": {},
   "outputs": [],
   "source": [
    "# syntax:\n",
    "#list=[<write your output> <forloop> <if condition>]\n",
    "# Do not include colone(:)"
   ]
  },
  {
   "cell_type": "code",
   "execution_count": 195,
   "id": "8764f5f3-6f14-4cc4-b07c-ef7486fb61bf",
   "metadata": {},
   "outputs": [
    {
     "data": {
      "text/plain": [
       "['CHEN#nai, pu#ne, banga#lore']"
      ]
     },
     "execution_count": 195,
     "metadata": {},
     "output_type": "execute_result"
    }
   ],
   "source": [
    "l=['hyd', \"CHEN#nai, pu#ne, banga#lore\"]\n",
    "out=[i for i in l if '#' in i]\n",
    "out"
   ]
  },
  {
   "cell_type": "code",
   "execution_count": 267,
   "id": "dc6ebfe4-b36d-4c2a-981b-9dc7831675d6",
   "metadata": {},
   "outputs": [
    {
     "name": "stdout",
     "output_type": "stream",
     "text": [
      "CHEN#nai\n",
      "banga#lore\n"
     ]
    }
   ],
   "source": [
    "l=['hyd', \"CHEN#nai\", \"banga#lore\"]\n",
    "for i in l:\n",
    "    #print(i)\n",
    "    #print(len(i))\n",
    "    if len(i) > 4:\n",
    "        print(i)\n",
    "###############\n",
    "### NOW DO THIS IN LIST COMPREHENSION ###   \n",
    "out=[d for d in l if len(d) > 4]"
   ]
  },
  {
   "cell_type": "markdown",
   "id": "ac93d80e-c188-4e5b-81e0-6dcdf8ab2920",
   "metadata": {},
   "source": [
    "# Three different type"
   ]
  },
  {
   "cell_type": "code",
   "execution_count": 271,
   "id": "91db5d11-b282-4608-a383-0753432e2708",
   "metadata": {},
   "outputs": [],
   "source": [
    "# M1: [<output> <forloop>]\n",
    "# M2: [<output> <forloop> <if condition>]\n",
    "# M3: [<if output> <if condition> else <else output> <for loop>]\n",
    "# M4: [<if output> <if condition> else <elsif output> <elif condition> else <else output>\n",
    "#           <for loop>]\n",
    "#M5 using function \n",
    "           "
   ]
  },
  {
   "cell_type": "code",
   "execution_count": 309,
   "id": "fed088cf-09d9-452b-8f27-a2c47d6e5226",
   "metadata": {},
   "outputs": [
    {
     "data": {
      "text/plain": [
       "(['even num: 38', 'even num: 80', 'even num: 2'],\n",
       " ['odd num: 53',\n",
       "  'odd num: 73',\n",
       "  'odd num: 29',\n",
       "  'odd num: 29',\n",
       "  'odd num: 57',\n",
       "  'odd num: 17',\n",
       "  'odd num: 87',\n",
       "  'odd num: 69'])"
      ]
     },
     "execution_count": 309,
     "metadata": {},
     "output_type": "execute_result"
    }
   ],
   "source": [
    "import random\n",
    "even_list, odd_list=[],[]\n",
    "for i in range(0,11):\n",
    "    num=random.randint(1,100)\n",
    "    #even_list.append(num)\n",
    "    if num%2==0:\n",
    "        even_list.append(f\"even num: {num}\")\n",
    "    else:\n",
    "        odd_list.append(f\"odd num: {num}\")\n",
    "even_list,odd_list"
   ]
  },
  {
   "cell_type": "code",
   "execution_count": 17,
   "id": "99c191b6-ea8a-4dcd-9594-af167289fc2a",
   "metadata": {},
   "outputs": [
    {
     "data": {
      "text/plain": [
       "['even num: 56',\n",
       " 'odd num: 97',\n",
       " 'odd num: 27',\n",
       " 'odd num: 21',\n",
       " 'even num: 60',\n",
       " 'odd num: 89',\n",
       " 'even num: 88',\n",
       " 'odd num: 17',\n",
       " 'even num: 92']"
      ]
     },
     "execution_count": 17,
     "metadata": {},
     "output_type": "execute_result"
    }
   ],
   "source": [
    "import random\n",
    "## M3: [<if output> <if condition> else <else output> <for loop>]\n",
    "even_odd_list=[f\"even num: {num}\" if num%2==0 else f\"odd num: {num}\" for num in [random.randint(1,100) for i in range(1,10)]]\n",
    "even_odd_list"
   ]
  },
  {
   "cell_type": "code",
   "execution_count": 35,
   "id": "c5ede0c9-b24c-47e2-aef1-862b2b266c24",
   "metadata": {},
   "outputs": [
    {
     "data": {
      "text/plain": [
       "[868, 949, 227, 405, 549, 161, 190, 464, 909, 369, 340]"
      ]
     },
     "execution_count": 35,
     "metadata": {},
     "output_type": "execute_result"
    }
   ],
   "source": [
    "## example\n",
    "random_num=[random.randint(10, 1000) for i in range(0,11)]\n",
    "random_num"
   ]
  },
  {
   "cell_type": "code",
   "execution_count": 41,
   "id": "986bc585-ea05-4f69-b802-d93f8d58b03c",
   "metadata": {},
   "outputs": [
    {
     "name": "stdout",
     "output_type": "stream",
     "text": [
      "negative\n",
      "negative\n",
      "zero\n",
      "Postive\n",
      "Postive\n"
     ]
    }
   ],
   "source": [
    "#M4\n",
    "#example1\n",
    "num=[-2,-1,0,1,2]\n",
    "out=[]\n",
    "for i in num:\n",
    "    if i>0:\n",
    "        print('Postive')\n",
    "    elif i<0:\n",
    "        print('negative')\n",
    "    else:\n",
    "        print('zero')"
   ]
  },
  {
   "cell_type": "code",
   "execution_count": 51,
   "id": "97557e70-8b95-46ee-8a57-8771ae1e8edb",
   "metadata": {},
   "outputs": [
    {
     "data": {
      "text/plain": [
       "['negative', 'negative', 'zero', 'Postive', 'Postive']"
      ]
     },
     "execution_count": 51,
     "metadata": {},
     "output_type": "execute_result"
    }
   ],
   "source": [
    "#M4\n",
    "#example2\n",
    "num=[-2,-1,0,1,2]\n",
    "out=[]\n",
    "for i in num:\n",
    "    if i>0:\n",
    "        out.append('Postive')\n",
    "    elif i<0:\n",
    "        out.append('negative')\n",
    "    else:\n",
    "        out.append('zero')\n",
    "out #This is important here without print output as list."
   ]
  },
  {
   "cell_type": "code",
   "execution_count": 57,
   "id": "51fe6d3d-6eaa-406c-8198-4e0b0dd01c8f",
   "metadata": {},
   "outputs": [
    {
     "data": {
      "text/plain": [
       "['negative', 'negative', 'zero', 'Postive', 'Postive']"
      ]
     },
     "execution_count": 57,
     "metadata": {},
     "output_type": "execute_result"
    }
   ],
   "source": [
    "['Postive' if i>0 else 'negative' if i<0 else 'zero' for i in num]"
   ]
  },
  {
   "cell_type": "code",
   "execution_count": 63,
   "id": "49934e41-1280-40df-b008-5bfa257f65fa",
   "metadata": {},
   "outputs": [
    {
     "name": "stdout",
     "output_type": "stream",
     "text": [
      "1\n",
      "4\n",
      "9\n",
      "16\n",
      "25\n",
      "36\n",
      "49\n",
      "64\n",
      "81\n"
     ]
    }
   ],
   "source": [
    "#method 5 Using Functions\n",
    "###################################\n",
    "#def square(x):\n",
    "#    print(x*x)\n",
    "#square(10)\n",
    "###################################\n",
    "#[square(i) for i in range(1,10)] ##>>List comprehension\n",
    "#for i in range(1,10):\n",
    "#    square(i)"
   ]
  },
  {
   "cell_type": "code",
   "execution_count": 65,
   "id": "91d0354c-7d69-4357-9e11-d1e56101fb91",
   "metadata": {},
   "outputs": [
    {
     "name": "stdout",
     "output_type": "stream",
     "text": [
      "1\n",
      "4\n",
      "9\n",
      "16\n",
      "25\n",
      "36\n",
      "49\n",
      "64\n",
      "81\n"
     ]
    }
   ],
   "source": [
    "#M5: example1\n",
    "for i in range(1,10):\n",
    "    square(i)"
   ]
  },
  {
   "cell_type": "code",
   "execution_count": 69,
   "id": "c005f63c-9302-4938-b919-421a29bcdcfc",
   "metadata": {},
   "outputs": [
    {
     "name": "stdout",
     "output_type": "stream",
     "text": [
      "100\n"
     ]
    }
   ],
   "source": [
    "#m5: example2\n",
    "def square(x):\n",
    "    print(x*x)\n",
    "square(10)"
   ]
  },
  {
   "cell_type": "code",
   "execution_count": 71,
   "id": "568b4280-ce3f-4e63-b735-8dfc0c1b325e",
   "metadata": {},
   "outputs": [
    {
     "name": "stdout",
     "output_type": "stream",
     "text": [
      "1\n",
      "4\n",
      "9\n",
      "16\n",
      "25\n",
      "36\n",
      "49\n",
      "64\n",
      "81\n"
     ]
    },
    {
     "data": {
      "text/plain": [
       "[None, None, None, None, None, None, None, None, None]"
      ]
     },
     "execution_count": 71,
     "metadata": {},
     "output_type": "execute_result"
    }
   ],
   "source": [
    "#Method5 List Comprehenstion\n",
    "[square(i) for i in range(1,10)] ##>>List comprehension"
   ]
  },
  {
   "cell_type": "code",
   "execution_count": null,
   "id": "dd36ea45-7ec3-4900-854a-d19110f073fc",
   "metadata": {},
   "outputs": [],
   "source": []
  }
 ],
 "metadata": {
  "kernelspec": {
   "display_name": "Python 3 (ipykernel)",
   "language": "python",
   "name": "python3"
  },
  "language_info": {
   "codemirror_mode": {
    "name": "ipython",
    "version": 3
   },
   "file_extension": ".py",
   "mimetype": "text/x-python",
   "name": "python",
   "nbconvert_exporter": "python",
   "pygments_lexer": "ipython3",
   "version": "3.12.4"
  }
 },
 "nbformat": 4,
 "nbformat_minor": 5
}
