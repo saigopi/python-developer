{
 "cells": [
  {
   "cell_type": "markdown",
   "id": "8bffe7b1-9fa8-4163-96fb-c706203c6292",
   "metadata": {},
   "source": [
    "###### Sring is an Unicode charter\n",
    "##### Sring are immutable, you can't not change or Delete the part of the SRING, But you can change it completly. \n",
    "### NOTE:\n",
    "##### NO DELETE PART OF THE STRING\n",
    "###### NO CHANGE PART OF THE STRING\n",
    "###### Based on Index Value you can access the charter in the given string.\n",
    "###### THIS WILL NOT WORK, All ways start with high value to get correct result.\n",
    "#### print(mydata[-2:-4])\n",
    "\n",
    "#### Concatnation "
   ]
  },
  {
   "cell_type": "code",
   "execution_count": 5,
   "id": "75621f16-6558-4e36-8e29-87d3fdd4beb3",
   "metadata": {},
   "outputs": [
    {
     "name": "stdout",
     "output_type": "stream",
     "text": [
      "latestdata\n"
     ]
    }
   ],
   "source": [
    "mydata=\"latestdata\"\n",
    "print(mydata)"
   ]
  },
  {
   "cell_type": "code",
   "execution_count": 51,
   "id": "36dc1ce8-c34e-46c2-a280-0ed5f3655810",
   "metadata": {},
   "outputs": [
    {
     "name": "stdout",
     "output_type": "stream",
     "text": [
      "latestdat\n"
     ]
    }
   ],
   "source": [
    "#print particular charter from the given string\n",
    "print(mydata[0:-1])"
   ]
  },
  {
   "cell_type": "code",
   "execution_count": 75,
   "id": "244f58fd-9468-453a-bcb9-f669700add8c",
   "metadata": {},
   "outputs": [
    {
     "name": "stdout",
     "output_type": "stream",
     "text": [
      "la\n",
      "latestdat\n",
      "latestdata\n"
     ]
    }
   ],
   "source": [
    "print(mydata[0:2])\n",
    "print(mydata[:-1])\n",
    "print(mydata[0:])"
   ]
  },
  {
   "cell_type": "code",
   "execution_count": 121,
   "id": "6265a2b3-942d-4e5a-a7f0-52c49df10fa6",
   "metadata": {},
   "outputs": [
    {
     "name": "stdout",
     "output_type": "stream",
     "text": [
      "atadtsetal\n"
     ]
    }
   ],
   "source": [
    "len(mydata)\n",
    "print(mydata[::-1])"
   ]
  },
  {
   "cell_type": "code",
   "execution_count": 123,
   "id": "1c3c856e-fcd9-4ba8-8ce5-2ebb5d7e5068",
   "metadata": {},
   "outputs": [
    {
     "name": "stdout",
     "output_type": "stream",
     "text": [
      "\n"
     ]
    }
   ],
   "source": [
    "## THIS WILL NOT WORK, All ways start with high value to get correct result.\n",
    "print(mydata[-2:-4])"
   ]
  },
  {
   "cell_type": "code",
   "execution_count": 137,
   "id": "a425761a-3601-4be8-ba42-5d45c6e56570",
   "metadata": {},
   "outputs": [],
   "source": [
    "##Add one are more string\n",
    "str1=\"one\"\n",
    "str2=\"two\"\n",
    "str3=\"three\"\n",
    "spa=\"space\"\n",
    "spa1=\" \""
   ]
  },
  {
   "cell_type": "code",
   "execution_count": 147,
   "id": "c41953f2-94e6-4e95-a630-41e3ddee4acb",
   "metadata": {},
   "outputs": [
    {
     "name": "stdout",
     "output_type": "stream",
     "text": [
      "one two space space\n"
     ]
    }
   ],
   "source": [
    "print(str1+\" \"+str2+\" \"+spa+spa1+spa)"
   ]
  },
  {
   "cell_type": "code",
   "execution_count": null,
   "id": "1f4255c0-7476-4ccc-ad95-20bab175f673",
   "metadata": {},
   "outputs": [],
   "source": []
  }
 ],
 "metadata": {
  "kernelspec": {
   "display_name": "Python 3 (ipykernel)",
   "language": "python",
   "name": "python3"
  },
  "language_info": {
   "codemirror_mode": {
    "name": "ipython",
    "version": 3
   },
   "file_extension": ".py",
   "mimetype": "text/x-python",
   "name": "python",
   "nbconvert_exporter": "python",
   "pygments_lexer": "ipython3",
   "version": "3.12.4"
  }
 },
 "nbformat": 4,
 "nbformat_minor": 5
}
